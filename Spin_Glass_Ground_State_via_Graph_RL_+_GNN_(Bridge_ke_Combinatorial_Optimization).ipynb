{
  "nbformat": 4,
  "nbformat_minor": 0,
  "metadata": {
    "colab": {
      "provenance": [],
      "authorship_tag": "ABX9TyPkXFM2BKb+vEYvTnQtyf+L",
      "include_colab_link": true
    },
    "kernelspec": {
      "name": "python3",
      "display_name": "Python 3"
    },
    "language_info": {
      "name": "python"
    }
  },
  "cells": [
    {
      "cell_type": "markdown",
      "metadata": {
        "id": "view-in-github",
        "colab_type": "text"
      },
      "source": [
        "<a href=\"https://colab.research.google.com/github/aoctavia/Spin-Glass-Ground-State-via-Graph-RL-GNN/blob/main/Spin_Glass_Ground_State_via_Graph_RL_%2B_GNN_(Bridge_ke_Combinatorial_Optimization).ipynb\" target=\"_parent\"><img src=\"https://colab.research.google.com/assets/colab-badge.svg\" alt=\"Open In Colab\"/></a>"
      ]
    },
    {
      "cell_type": "markdown",
      "source": [
        "#Spin-Glass Ground State via Graph RL + GNN (Bridge ke Combinatorial Optimization)\n",
        "\n",
        "Ide ringkas: Pecahkan ground state spin glass (±J) pada graf 2D/acak sebagai Max-Cut; gabungkan policy gradient RL (atau Q-learning) dengan GNN sebagai representasi kebijakan.\n",
        "Mengapa “wah”: Menghubungkan many-body ↔ NP-hard optimization secara eksplisit.\n",
        "Komponen teknis:\n",
        "\n",
        "1. Formulasi energi Ising sebagai cut cost; reward = −energy.\n",
        "\n",
        "2. GNN policy (SAGEConv/GIN) yang meng-assign spin; curriculum dari graf kecil ke besar.\n",
        "\n",
        "3. Bandingkan dengan: Simulated Annealing, ILP (ukuran kecil), dan QAOA klasik (simulasi) untuk benchmark.\n",
        "Evaluasi:\n",
        "\n",
        "4. Gap ke optimum (ILP) pada n≤128.\n",
        "\n",
        "5. Skala waktu vs kualitas solusi; generalization ke topologi/graf unseen.\n",
        "Deliverables:\n",
        "\n",
        "6. Repo dengan benchmarks reproducible, tabel hasil lawan annealing/QAOA.\n",
        "\n",
        "7. Poster 1 halaman: grafik gap vs ukuran graf.\n",
        "Stack: PyTorch Geometric + OR-Tools (untuk ILP kecil) + PennyLane/qiskit (simulasi QAOA, opsional)."
      ],
      "metadata": {
        "id": "kTiRklRQtlvw"
      }
    },
    {
      "cell_type": "markdown",
      "source": [
        "Cell 1 — Setup & Installs (Colab)"
      ],
      "metadata": {
        "id": "TvVRpOVyuFSa"
      }
    },
    {
      "cell_type": "code",
      "execution_count": 13,
      "metadata": {
        "colab": {
          "base_uri": "https://localhost:8080/"
        },
        "id": "cutyweuwtgKN",
        "outputId": "57654947-0ed7-47ca-dae4-82de2b058320"
      },
      "outputs": [
        {
          "output_type": "stream",
          "name": "stdout",
          "text": [
            "Installed. Torch: 2.8.0+cu126\n"
          ]
        }
      ],
      "source": [
        "# If running on Colab: install deps\n",
        "!pip -q install numpy scipy matplotlib seaborn networkx tqdm einops ortools\n",
        "\n",
        "# (Colab biasanya sudah punya torch)\n",
        "import torch, sys, subprocess\n",
        "ver = torch.__version__.split('+')[0]\n",
        "\n",
        "# --- PyTorch Geometric (CPU wheels; paling aman & kompatibel) ---\n",
        "pyg_url = f\"https://data.pyg.org/whl/torch-{ver}+cpu.html\"\n",
        "subprocess.check_call([sys.executable, '-m', 'pip', 'install', '-q',\n",
        "                       'pyg_lib', 'torch_scatter', 'torch_sparse', 'torch_cluster', 'torch_spline_conv',\n",
        "                       '-f', pyg_url])\n",
        "subprocess.check_call([sys.executable, '-m', 'pip', 'install', '-q', 'torch_geometric'])\n",
        "\n",
        "print(\"Installed. Torch:\", torch.__version__)\n"
      ]
    },
    {
      "cell_type": "markdown",
      "source": [
        "Cell 2 — Imports, Config, Reproducibility"
      ],
      "metadata": {
        "id": "tEm2V1vGuIlG"
      }
    },
    {
      "cell_type": "code",
      "source": [
        "import os, math, random, time, json\n",
        "import numpy as np\n",
        "import networkx as nx\n",
        "import matplotlib.pyplot as plt\n",
        "import seaborn as sns\n",
        "from tqdm import tqdm\n",
        "\n",
        "import torch\n",
        "from torch import nn\n",
        "from torch.distributions import Categorical\n",
        "\n",
        "from torch_geometric.data import Data\n",
        "from torch_geometric.nn import GCNConv, GINConv, global_mean_pool\n",
        "\n",
        "# Reproducibility\n",
        "SEED = 42\n",
        "random.seed(SEED); np.random.seed(SEED); torch.manual_seed(SEED)\n",
        "if torch.cuda.is_available():\n",
        "    torch.cuda.manual_seed_all(SEED)\n",
        "\n",
        "DEVICE = torch.device('cuda' if torch.cuda.is_available() else 'cpu')\n",
        "print(\"Device:\", DEVICE)\n",
        "\n",
        "# Master config (bisa diubah)\n",
        "CFG = {\n",
        "    # training graphs (curriculum sizes)\n",
        "    \"train_graph_type\": \"er\",      # \"er\" | \"grid\" | \"reg3\"\n",
        "    \"train_sizes\": [30, 40, 50],   # curriculum sizes\n",
        "    \"train_p\": 0.20,               # ER edge probability\n",
        "    \"episodes_per_epoch\": 60,      # graphs per epoch\n",
        "    \"epochs\": 30,\n",
        "\n",
        "    # RL\n",
        "    \"gamma\": 1.0,                  # episodic, reward shaping\n",
        "    \"lr\": 3e-4,\n",
        "    \"hidden\": 128,\n",
        "    \"gcn_layers\": 3,\n",
        "    \"dropout\": 0.1,\n",
        "    \"entropy_coef\": 0.01,\n",
        "    \"value_coef\": 0.5,\n",
        "    \"grad_clip\": 1.0,\n",
        "\n",
        "    # evaluation\n",
        "    \"eval_small_n\": 22,            # small graphs for ILP\n",
        "    \"eval_small_p\": 0.25,\n",
        "    \"ilp_time_limit_s\": 10,\n",
        "    \"eval_large_n\": 80,            # larger graphs (SA vs RL)\n",
        "    \"eval_large_p\": 0.15,\n",
        "\n",
        "    # node order during construction\n",
        "    \"node_order\": \"degree\",        # \"degree\" | \"random\"\n",
        "}\n",
        "\n",
        "sns.set_style(\"whitegrid\")\n",
        "print(json.dumps(CFG, indent=2))\n"
      ],
      "metadata": {
        "colab": {
          "base_uri": "https://localhost:8080/"
        },
        "id": "qgeZWvi2uMBz",
        "outputId": "a82630c4-ca5e-4f63-b95c-33cad398a785"
      },
      "execution_count": 14,
      "outputs": [
        {
          "output_type": "stream",
          "name": "stdout",
          "text": [
            "Device: cpu\n",
            "{\n",
            "  \"train_graph_type\": \"er\",\n",
            "  \"train_sizes\": [\n",
            "    30,\n",
            "    40,\n",
            "    50\n",
            "  ],\n",
            "  \"train_p\": 0.2,\n",
            "  \"episodes_per_epoch\": 60,\n",
            "  \"epochs\": 30,\n",
            "  \"gamma\": 1.0,\n",
            "  \"lr\": 0.0003,\n",
            "  \"hidden\": 128,\n",
            "  \"gcn_layers\": 3,\n",
            "  \"dropout\": 0.1,\n",
            "  \"entropy_coef\": 0.01,\n",
            "  \"value_coef\": 0.5,\n",
            "  \"grad_clip\": 1.0,\n",
            "  \"eval_small_n\": 22,\n",
            "  \"eval_small_p\": 0.25,\n",
            "  \"ilp_time_limit_s\": 10,\n",
            "  \"eval_large_n\": 80,\n",
            "  \"eval_large_p\": 0.15,\n",
            "  \"node_order\": \"degree\"\n",
            "}\n"
          ]
        }
      ]
    },
    {
      "cell_type": "markdown",
      "source": [
        "Cell 3 — Graph Generators (ER, Grid, 3‑Regular) + Spin‑Glass Couplings"
      ],
      "metadata": {
        "id": "9SWQOrRsuQN_"
      }
    },
    {
      "cell_type": "code",
      "source": [
        "def make_er_graph(n=40, p=0.2, seed=None):\n",
        "    rng = np.random.RandomState(seed)\n",
        "    G = nx.erdos_renyi_graph(n, p, seed=seed)\n",
        "    # pastikan ada edge\n",
        "    while G.number_of_edges() == 0:\n",
        "        G = nx.erdos_renyi_graph(n, p, seed=int(rng.randint(1e9)))\n",
        "    # ambil komponen terbesar agar tidak ada isolated\n",
        "    if not nx.is_connected(G):\n",
        "        comp = max(nx.connected_components(G), key=len)\n",
        "        G = G.subgraph(comp).copy()\n",
        "        # relabel ke 0..N-1 setelah ambil komponen terbesar\n",
        "        mapping = {old:i for i,old in enumerate(G.nodes())}\n",
        "        G = nx.relabel_nodes(G, mapping, copy=True)\n",
        "\n",
        "    # assign J ∈ {-1,+1}\n",
        "    for u, v in G.edges():\n",
        "        G[u][v]['J'] = 1 if rng.rand() < 0.5 else -1\n",
        "    return G\n",
        "\n",
        "\n",
        "def make_grid_graph(L=6, periodic=False, seed=None):\n",
        "    # 2D grid LxL\n",
        "    G = nx.grid_2d_graph(L, L, periodic=periodic)\n",
        "    mapping = {xy:i for i,xy in enumerate(G.nodes())}\n",
        "    G = nx.relabel_nodes(G, mapping, copy=True)\n",
        "    rng = np.random.RandomState(seed)\n",
        "    for u, v in G.edges():\n",
        "        G[u][v]['J'] = 1 if rng.rand() < 0.5 else -1\n",
        "    return G\n",
        "\n",
        "def make_reg_k_graph(n=40, k=3, seed=None):\n",
        "    rng = np.random.RandomState(seed)\n",
        "    # might fail if (n*k) odd; adjust\n",
        "    if (n * k) % 2 == 1:\n",
        "        n += 1\n",
        "    G = nx.random_regular_graph(k, n, seed=seed)\n",
        "    for u, v in G.edges():\n",
        "        G[u][v]['J'] = 1 if rng.rand() < 0.5 else -1\n",
        "    return G\n",
        "\n",
        "def undirected_edges_with_J(G):\n",
        "    edges = []\n",
        "    for u, v, data in G.edges(data=True):\n",
        "        J = data.get('J', 1)\n",
        "        if u < v: edges.append((u, v, J))\n",
        "        else:     edges.append((v, u, J))\n",
        "    edges = list({(min(u,v), max(u,v), J) for (u,v,J) in edges})\n",
        "    return edges\n"
      ],
      "metadata": {
        "id": "FP1uny81uQob"
      },
      "execution_count": 15,
      "outputs": []
    },
    {
      "cell_type": "markdown",
      "source": [
        "Cell 4 — Convert to PyG Data (features + edge weights) & Energy Functions"
      ],
      "metadata": {
        "id": "4HUjMqipuTNT"
      }
    },
    {
      "cell_type": "code",
      "source": [
        "def to_pyg_data(G):\n",
        "    edges = undirected_edges_with_J(G)\n",
        "    n = G.number_of_nodes()\n",
        "    # Build directed edge_index & edge_weight (use J as weight)\n",
        "    edge_index = []\n",
        "    edge_weight = []\n",
        "    for (u,v,J) in edges:\n",
        "        edge_index.append([u,v]); edge_index.append([v,u])\n",
        "        edge_weight.append(J);     edge_weight.append(J)\n",
        "    edge_index = torch.tensor(edge_index, dtype=torch.long).t().contiguous()\n",
        "    edge_weight = torch.tensor(edge_weight, dtype=torch.float32)\n",
        "\n",
        "    # Node features: [assigned_flag, spin_value, degree]\n",
        "    x = torch.zeros(n, 3, dtype=torch.float32)\n",
        "    deg = torch.tensor([G.degree[i] for i in range(n)], dtype=torch.float32)\n",
        "    x[:, 2] = deg\n",
        "\n",
        "    data = Data(x=x, edge_index=edge_index, edge_weight=edge_weight, num_nodes=n)\n",
        "    data.edge_list_undirected = edges  # keep for exact energy calc\n",
        "    return data\n",
        "\n",
        "def energy_from_spins(edge_list, spins):\n",
        "    # H = - sum_{(i,j)} J_ij s_i s_j, s_i ∈ {-1,+1}\n",
        "    H = 0.0\n",
        "    for (u,v,J) in edge_list:\n",
        "        H += - J * spins[u] * spins[v]\n",
        "    return float(H)\n",
        "\n",
        "def delta_energy_for_assignment(edge_list, partial_spins, node, spin_value):\n",
        "    # incremental dH contributed oleh edges yang incident ke 'node'\n",
        "    dH = 0.0\n",
        "    for (u,v,J) in edge_list:\n",
        "        if u == node and v in partial_spins:\n",
        "            dH += - J * spin_value * partial_spins[v]\n",
        "        elif v == node and u in partial_spins:\n",
        "            dH += - J * spin_value * partial_spins[u]\n",
        "    return dH\n"
      ],
      "metadata": {
        "id": "KsBuP6FSuWoq"
      },
      "execution_count": 16,
      "outputs": []
    },
    {
      "cell_type": "code",
      "source": [
        "# --- PyG graph preprocessing: add self-loops & coalesce ---\n",
        "from torch_geometric.utils import add_self_loops, coalesce\n",
        "\n",
        "def preprocess_pyg(data: Data, fill_value: float = 1.0) -> Data:\n",
        "    \"\"\"\n",
        "    Tambah self-loop agar derajat node minimal 1 (hindari 0/0 pada normalisasi GCN),\n",
        "    lalu coalesce (merge multi-edges) sambil menjumlahkan bobot edge.\n",
        "    Kompatibel dgn PyG: coalesce(edge_index, edge_attr, num_nodes=None, reduce='add').\n",
        "    \"\"\"\n",
        "    # Tambah self-loops (isi bobot self-loop = fill_value)\n",
        "    ei, ew = add_self_loops(\n",
        "        data.edge_index, data.edge_weight,\n",
        "        num_nodes=data.num_nodes, fill_value=fill_value\n",
        "    )\n",
        "    # Gabungkan multi-edges; jumlahkan bobotnya\n",
        "    ei, ew = coalesce(ei, ew, num_nodes=data.num_nodes, reduce='add')\n",
        "\n",
        "    data.edge_index = ei\n",
        "    data.edge_weight = ew\n",
        "\n",
        "    # (opsional) sanity: pastikan tidak ada NaN/Inf\n",
        "    if not torch.isfinite(data.edge_weight).all():\n",
        "        raise RuntimeError(\"Found non-finite edge_weight after coalesce.\")\n",
        "\n",
        "    return data\n",
        "\n",
        "\n",
        "# --- Override to_pyg_data: PANGGIL preprocess_pyg SEBELUM return ---\n",
        "def to_pyg_data(G):\n",
        "    edges = undirected_edges_with_J(G)\n",
        "    n = G.number_of_nodes()\n",
        "\n",
        "    # Directed edge_index & edge_weight (pakai J sebagai bobot)\n",
        "    edge_index = []\n",
        "    edge_weight = []\n",
        "    for (u, v, J) in edges:\n",
        "        edge_index.append([u, v]); edge_index.append([v, u])\n",
        "        edge_weight.append(J);     edge_weight.append(J)\n",
        "    edge_index = torch.tensor(edge_index, dtype=torch.long).t().contiguous()\n",
        "    edge_weight = torch.tensor(edge_weight, dtype=torch.float32)\n",
        "\n",
        "    # Fitur node: [assigned_flag, spin_value, degree]\n",
        "    x = torch.zeros(n, 3, dtype=torch.float32)\n",
        "    deg = torch.tensor([G.degree[i] for i in range(n)], dtype=torch.float32)\n",
        "    x[:, 2] = deg\n",
        "\n",
        "    data = Data(x=x, edge_index=edge_index, edge_weight=edge_weight, num_nodes=n)\n",
        "    # simpan juga daftar edge tak berarah untuk perhitungan energi persis\n",
        "    data.edge_list_undirected = edges\n",
        "\n",
        "    # ✅ langkah penting: tambahkan self-loops & coalesce\n",
        "    data = preprocess_pyg(data, fill_value=1.0)\n",
        "    return data\n",
        "\n",
        "# --- (Opsional) sanity check cepat: pastikan logits finite untuk 1 instance ---\n",
        "try:\n",
        "    _tmp = generate_instance(CFG[\"train_graph_type\"], n=CFG[\"train_sizes\"][0], p=CFG[\"train_p\"], seed=123).to(DEVICE)\n",
        "    _env = SpinGlassEnv(_tmp, node_order=CFG[\"node_order\"])\n",
        "    node0 = _env.get_state()\n",
        "\n",
        "    with torch.no_grad():\n",
        "        _m = PolicyValueGNN(in_dim=3, hidden=CFG[\"hidden\"], layers=CFG[\"gcn_layers\"], dropout=CFG[\"dropout\"]).to(DEVICE)\n",
        "        _logits, _val = _m(_tmp, node0)\n",
        "        print(\"Sanity logits finite? →\", bool(torch.isfinite(_logits).all().item()), \"| shape:\", tuple(_logits.shape))\n",
        "except Exception as e:\n",
        "    print(\"Sanity check skipped:\", e)\n"
      ],
      "metadata": {
        "colab": {
          "base_uri": "https://localhost:8080/"
        },
        "id": "gi5HgJmL6Tie",
        "outputId": "9dbe38bf-f0c5-4152-ddfa-5cad1a2d9018"
      },
      "execution_count": 17,
      "outputs": [
        {
          "output_type": "stream",
          "name": "stdout",
          "text": [
            "Sanity logits finite? → False | shape: (2,)\n"
          ]
        }
      ]
    },
    {
      "cell_type": "markdown",
      "source": [
        "Cell 5 — EDA: Topology, Degree & Coupling Histograms"
      ],
      "metadata": {
        "id": "YXIo3jpHuZ1d"
      }
    },
    {
      "cell_type": "code",
      "source": [
        "def eda_graph(G, title=\"EDA\"):\n",
        "    degrees = [d for _, d in G.degree()]\n",
        "    Js = [G[u][v]['J'] for u, v in G.edges()]\n",
        "    plt.figure(figsize=(11,3))\n",
        "    plt.subplot(1,3,1); plt.hist(degrees, bins=10); plt.title(\"Degree\"); plt.xlabel(\"deg\")\n",
        "    plt.subplot(1,3,2); plt.hist(Js, bins=[-1.5,-0.5,0.5,1.5]); plt.title(\"J counts\"); plt.xlabel(\"J∈{-1,+1}\")\n",
        "    plt.subplot(1,3,3); nx.draw(G, node_size=60, with_labels=False); plt.title(\"Topology\")\n",
        "    plt.suptitle(title); plt.tight_layout(); plt.show()\n",
        "\n",
        "G_demo = make_er_graph(n=CFG[\"train_sizes\"][0], p=CFG[\"train_p\"], seed=SEED)\n",
        "eda_graph(G_demo, \"ER graph (train-like)\")\n"
      ],
      "metadata": {
        "colab": {
          "base_uri": "https://localhost:8080/",
          "height": 316
        },
        "id": "ntE_UFMyucTl",
        "outputId": "17af0a9e-5b91-4432-c00c-7f45c0ff4c35"
      },
      "execution_count": 18,
      "outputs": [
        {
          "output_type": "display_data",
          "data": {
            "text/plain": [
              "<Figure size 1100x300 with 3 Axes>"
            ],
            "image/png": "[encoded data removed]"
          },
          "metadata": {}
        }
      ]
    },
    {
      "cell_type": "markdown",
      "source": [
        "Cell 6 — Baseline: Simulated Annealing (SA)"
      ],
      "metadata": {
        "id": "KI4XT6qKuess"
      }
    },
    {
      "cell_type": "code",
      "source": [
        "def simulated_annealing(edge_list, n, steps=2500, T0=2.0, Tmin=0.01, alpha=0.995, seed=None):\n",
        "    rng = np.random.RandomState(seed)\n",
        "    spins = rng.choice([-1,1], size=n).astype(np.int8)\n",
        "\n",
        "    # Precompute neighbours\n",
        "    nbrs = [[] for _ in range(n)]\n",
        "    for (u,v,J) in edge_list:\n",
        "        nbrs[u].append((v,J))\n",
        "        nbrs[v].append((u,J))\n",
        "\n",
        "    def local_delta(i):\n",
        "        s = spins[i]\n",
        "        return 2.0 * s * sum(J * spins[j] for (j,J) in nbrs[i])\n",
        "\n",
        "    H = energy_from_spins(edge_list, spins)\n",
        "    best_spins = spins.copy(); best_H = H\n",
        "    T = T0\n",
        "    for _ in range(steps):\n",
        "        i = rng.randint(0, n)\n",
        "        dH = local_delta(i)\n",
        "        if dH <= 0 or rng.rand() < math.exp(-dH/max(T,1e-8)):\n",
        "            spins[i] = -spins[i]\n",
        "            H += dH\n",
        "            if H < best_H:\n",
        "                best_H = H\n",
        "                best_spins = spins.copy()\n",
        "        T = max(Tmin, T * alpha)\n",
        "    return best_spins, best_H\n",
        "\n",
        "# smoke test\n",
        "edges = undirected_edges_with_J(G_demo)\n",
        "_, H_sa = simulated_annealing(edges, n=G_demo.number_of_nodes(), steps=1500, seed=0)\n",
        "print(\"SA energy (demo):\", H_sa)\n"
      ],
      "metadata": {
        "colab": {
          "base_uri": "https://localhost:8080/"
        },
        "id": "FzBvjCmCuhP9",
        "outputId": "7a1ed0ec-6a42-499f-f156-305990175369"
      },
      "execution_count": 19,
      "outputs": [
        {
          "output_type": "stream",
          "name": "stdout",
          "text": [
            "SA energy (demo): -39.0\n"
          ]
        }
      ]
    },
    {
      "cell_type": "markdown",
      "source": [
        "Cell 7 — Baseline: Exact ILP via CP‑SAT (Max‑Cut Mapping)"
      ],
      "metadata": {
        "id": "HHvZhe2jujZA"
      }
    },
    {
      "cell_type": "code",
      "source": [
        "# ILP via OR-Tools CP-SAT: maximize Σ w_ij * z_ij  with z_ij = 1 if x_i != x_j.\n",
        "# Mapping spin-glass: minimize H = -Σ J s_i s_j  == maximize Σ (-J) z_ij  (up to constant)\n",
        "from ortools.sat.python import cp_model\n",
        "\n",
        "def ilp_exact_maxcut_energy(edge_list, n, time_limit_s=10, workers=8):\n",
        "    model = cp_model.CpModel()\n",
        "    x = [model.NewBoolVar(f'x_{i}') for i in range(n)]\n",
        "    z = {}\n",
        "    w = {}\n",
        "\n",
        "    for (u,v,J) in edge_list:\n",
        "        key = (u,v)\n",
        "        z[key] = model.NewBoolVar(f'z_{u}_{v}')\n",
        "        w[key] = -int(J)  # weight = -J\n",
        "        # XOR linearization\n",
        "        model.Add(z[key] >= x[u] - x[v])\n",
        "        model.Add(z[key] >= x[v] - x[u])\n",
        "        model.Add(z[key] <= x[u] + x[v])\n",
        "        model.Add(z[key] <= 2 - x[u] - x[v])\n",
        "\n",
        "    # maximize Σ w z\n",
        "    obj = sum(w[(u,v)] * z[(u,v)] for (u,v,_) in edge_list)\n",
        "    model.Maximize(obj)\n",
        "\n",
        "    solver = cp_model.CpSolver()\n",
        "    solver.parameters.max_time_in_seconds = float(time_limit_s)\n",
        "    solver.parameters.num_search_workers = workers\n",
        "    status = solver.Solve(model)\n",
        "\n",
        "    if status not in (cp_model.OPTIMAL, cp_model.FEASIBLE):\n",
        "        return None, None, status\n",
        "\n",
        "    # Recover z, compute H\n",
        "    const_term = - sum(J for (_,_,J) in edge_list)\n",
        "    sum_Jz = 0.0\n",
        "    for (u,v,J) in edge_list:\n",
        "        z_uv = solver.Value(z[(u,v)])\n",
        "        sum_Jz += J * z_uv\n",
        "    H = const_term + 2.0 * sum_Jz\n",
        "    return float(H), solver.ObjectiveValue(), status\n",
        "\n",
        "# smoke test (kecil)\n",
        "G_small = make_er_graph(n=12, p=0.35, seed=7)\n",
        "edges_small = undirected_edges_with_J(G_small)\n",
        "H_opt, obj, status = ilp_exact_maxcut_energy(edges_small, n=G_small.number_of_nodes(), time_limit_s=5)\n",
        "print(\"ILP small energy:\", H_opt, \"| status:\", status)\n"
      ],
      "metadata": {
        "colab": {
          "base_uri": "https://localhost:8080/"
        },
        "id": "DFfxyR28uloF",
        "outputId": "4d9f64b8-80e0-464e-eb6e-d811cb7def33"
      },
      "execution_count": 20,
      "outputs": [
        {
          "output_type": "stream",
          "name": "stdout",
          "text": [
            "ILP small energy: -18.0 | status: 4\n"
          ]
        }
      ]
    },
    {
      "cell_type": "markdown",
      "source": [
        "Cell 8 — RL Environment (Construction by Node Assignment)"
      ],
      "metadata": {
        "id": "354X--8runqG"
      }
    },
    {
      "cell_type": "code",
      "source": [
        "class SpinGlassEnv:\n",
        "    \"\"\"\n",
        "    Episode = assign spins sequentially to all nodes.\n",
        "    State features live in data.x: [assigned_flag, spin_value, degree]\n",
        "    Action = choose spin {-1,+1} for current node.\n",
        "    Reward shaping: r_t = -ΔH (so maximizing sum r_t minimizes final H).\n",
        "    \"\"\"\n",
        "    def __init__(self, data: Data, node_order=\"degree\"):\n",
        "        self.data = data\n",
        "        self.edge_list = data.edge_list_undirected\n",
        "        self.n = data.num_nodes\n",
        "        self.node_order_mode = node_order\n",
        "        self.reset()\n",
        "\n",
        "    def order_nodes(self):\n",
        "        if self.node_order_mode == \"degree\":\n",
        "            deg = self.data.x[:,2].cpu().numpy()\n",
        "            order = list(np.argsort(-deg))  # high degree first\n",
        "        elif self.node_order_mode == \"random\":\n",
        "            order = list(range(self.n)); random.shuffle(order)\n",
        "        else:\n",
        "            order = list(range(self.n))\n",
        "        return order\n",
        "\n",
        "    def reset(self):\n",
        "        self.partial_spins = {}\n",
        "        self.t = 0\n",
        "        self.order = self.order_nodes()\n",
        "        # clear features (except degree)\n",
        "        self.data.x[:,0] = 0.0\n",
        "        self.data.x[:,1] = 0.0\n",
        "        return self.get_state()\n",
        "\n",
        "    def get_state(self):\n",
        "        if self.t >= self.n:\n",
        "            return None\n",
        "        return self.order[self.t]\n",
        "\n",
        "    def step(self, action_spin):\n",
        "        node = self.order[self.t]\n",
        "        dH = delta_energy_for_assignment(self.edge_list, self.partial_spins, node, action_spin)\n",
        "        reward = -float(dH)\n",
        "        # commit\n",
        "        self.partial_spins[node] = int(action_spin)\n",
        "        self.data.x[node,0] = 1.0\n",
        "        self.data.x[node,1] = float(action_spin)\n",
        "        self.t += 1\n",
        "        done = (self.t == self.n)\n",
        "        return self.get_state(), reward, done\n",
        "\n",
        "    def final_energy(self):\n",
        "        spins = np.ones(self.n, dtype=np.int8)\n",
        "        for k, v in self.partial_spins.items():\n",
        "            spins[k] = v\n",
        "        return energy_from_spins(self.edge_list, spins), spins\n"
      ],
      "metadata": {
        "id": "0rZt24s7uqFX"
      },
      "execution_count": 21,
      "outputs": []
    },
    {
      "cell_type": "markdown",
      "source": [
        "Cell 9 — Policy‑Value GNN (A2C): GCN backbone + edge_weight = J"
      ],
      "metadata": {
        "id": "bF6DlJnEuuES"
      }
    },
    {
      "cell_type": "code",
      "source": [
        "class PolicyValueGNN(nn.Module):\n",
        "    \"\"\"\n",
        "    - Node features: [assigned_flag, spin_value, degree]\n",
        "    - Edge weights: J in {-1,+1} (as 'edge_weight' for GCNConv).\n",
        "    - Policy head: per-node logits for {-1,+1}; we query only the \"current node\" embedding.\n",
        "    - Value head: graph-level V(s) via global mean pooling.\n",
        "    \"\"\"\n",
        "    def __init__(self, in_dim=3, hidden=128, layers=3, dropout=0.1):\n",
        "        super().__init__()\n",
        "        self.convs = nn.ModuleList()\n",
        "        self.convs.append(GCNConv(in_dim, hidden))\n",
        "        for _ in range(layers-1):\n",
        "            self.convs.append(GCNConv(hidden, hidden))\n",
        "        self.dropout = nn.Dropout(dropout)\n",
        "\n",
        "        self.policy_head = nn.Sequential(\n",
        "            nn.Linear(hidden, hidden), nn.ReLU(), nn.Dropout(dropout),\n",
        "            nn.Linear(hidden, 2)  # logits for {-1,+1} -> index 0:-1, 1:+1\n",
        "        )\n",
        "        self.value_head = nn.Sequential(\n",
        "            nn.Linear(hidden, hidden), nn.ReLU(), nn.Dropout(dropout),\n",
        "            nn.Linear(hidden, 1)\n",
        "        )\n",
        "\n",
        "    def embed(self, data: Data):\n",
        "        x, edge_index, ew = data.x, data.edge_index, data.edge_weight\n",
        "        h = x\n",
        "        for conv in self.convs:\n",
        "            h = conv(h, edge_index, edge_weight=ew)\n",
        "            h = torch.relu(h)\n",
        "            h = self.dropout(h)\n",
        "        # single-graph pooling: batch is all zeros\n",
        "        batch = torch.zeros(h.size(0), dtype=torch.long, device=h.device)\n",
        "        g = global_mean_pool(h, batch)\n",
        "        return h, g\n",
        "\n",
        "    def forward(self, data: Data, node_idx: int):\n",
        "        h, g = self.embed(data)\n",
        "        logits = self.policy_head(h[node_idx])\n",
        "        value  = self.value_head(g).squeeze(-1)  # scalar V(s)\n",
        "        return logits, value\n"
      ],
      "metadata": {
        "id": "i1QyXY2Ouuiq"
      },
      "execution_count": 22,
      "outputs": []
    },
    {
      "cell_type": "markdown",
      "source": [
        "Cell 10 — Helpers: Instance Generator, Permutation Augmentation"
      ],
      "metadata": {
        "id": "wVY5rSZXuwac"
      }
    },
    {
      "cell_type": "code",
      "source": [
        "def generate_instance(graph_type, n, p=0.2, seed=None):\n",
        "    if graph_type == \"er\":\n",
        "        G = make_er_graph(n=n, p=p, seed=seed)\n",
        "    elif graph_type == \"grid\":\n",
        "        L = max(3, int(round(math.sqrt(n))))\n",
        "        G = make_grid_graph(L=L, periodic=False, seed=seed)\n",
        "    elif graph_type == \"reg3\":\n",
        "        G = make_reg_k_graph(n=n, k=3, seed=seed)\n",
        "    else:\n",
        "        G = make_er_graph(n=n, p=p, seed=seed)\n",
        "    return to_pyg_data(G)\n",
        "\n",
        "def permute_nodes(data: Data, seed=None):\n",
        "    rng = np.random.RandomState(seed)\n",
        "    n = data.num_nodes\n",
        "    perm = torch.tensor(rng.permutation(n), dtype=torch.long)\n",
        "    inv  = torch.empty_like(perm); inv[perm] = torch.arange(n)\n",
        "\n",
        "    # permute node features\n",
        "    x_new = data.x[perm].clone()\n",
        "\n",
        "    # permute edge index\n",
        "    ei = data.edge_index.clone()\n",
        "    ei = inv[ei]  # relabel endpoints\n",
        "    # keep edge_weight & undirected list\n",
        "    new = Data(x=x_new, edge_index=ei, edge_weight=data.edge_weight.clone(), num_nodes=n)\n",
        "    # remap undirected edge list\n",
        "    edges = []\n",
        "    for (u,v,J) in data.edge_list_undirected:\n",
        "        u2 = int(inv[u]); v2 = int(inv[v])\n",
        "        if u2 < v2: edges.append((u2,v2,J))\n",
        "        else:       edges.append((v2,u2,J))\n",
        "    edges = list({(min(u,v), max(u,v), J) for (u,v,J) in edges})\n",
        "    new.edge_list_undirected = edges\n",
        "    return new\n"
      ],
      "metadata": {
        "id": "3bKfAGb7uzgd"
      },
      "execution_count": 23,
      "outputs": []
    },
    {
      "cell_type": "markdown",
      "source": [
        "Cell 11 — A2C Training Loop (Actor‑Critic, Entropy Reg, Grad Clip)"
      ],
      "metadata": {
        "id": "dsJe5yeyu1T0"
      }
    },
    {
      "cell_type": "code",
      "source": [
        "# === Cell X: Definisi PolicyValueGIN ===\n",
        "from torch_geometric.nn import GINConv, global_mean_pool\n",
        "\n",
        "class PolicyValueGIN(nn.Module):\n",
        "    def __init__(self, in_dim, hidden=64, layers=2, dropout=0.1):\n",
        "        super().__init__()\n",
        "        self.dropout = dropout\n",
        "\n",
        "        # GIN layers\n",
        "        self.gins = nn.ModuleList()\n",
        "        for i in range(layers):\n",
        "            nn_lin = nn.Sequential(\n",
        "                nn.Linear(in_dim if i==0 else hidden, hidden),\n",
        "                nn.ReLU(),\n",
        "                nn.Linear(hidden, hidden)\n",
        "            )\n",
        "            self.gins.append(GINConv(nn_lin))\n",
        "\n",
        "        # heads\n",
        "        self.policy_head = nn.Linear(hidden, 2)   # binary spin decision {-1, +1}\n",
        "        self.value_head  = nn.Linear(hidden, 1)   # scalar state value\n",
        "\n",
        "    def forward(self, data, node_idx):\n",
        "        x, edge_index, edge_weight = data.x, data.edge_index, data.edge_weight\n",
        "\n",
        "        # GIN forward\n",
        "        for gin in self.gins:\n",
        "            x = gin(x, edge_index)\n",
        "            x = F.relu(x)\n",
        "            x = F.dropout(x, p=self.dropout, training=self.training)\n",
        "\n",
        "        h_node = x[node_idx]                  # representation of current node\n",
        "        g_pool = global_mean_pool(x, torch.zeros(x.size(0), dtype=torch.long, device=x.device))\n",
        "\n",
        "        logits = self.policy_head(h_node)\n",
        "        value  = self.value_head(g_pool).squeeze(-1)\n",
        "\n",
        "        return logits, value\n"
      ],
      "metadata": {
        "id": "5heEk5Veu3nf"
      },
      "execution_count": 24,
      "outputs": []
    },
    {
      "cell_type": "markdown",
      "source": [
        "Cell 12 — Training Curves"
      ],
      "metadata": {
        "id": "_4B6K55tu5qO"
      }
    },
    {
      "cell_type": "code",
      "source": [
        "import torch.nn as nn\n",
        "import torch.nn.functional as F\n",
        "from torch_geometric.nn import GINConv\n",
        "\n",
        "class PolicyValueGIN(nn.Module):\n",
        "    def __init__(self, in_dim, hidden=64, layers=2, dropout=0.1):\n",
        "        super().__init__()\n",
        "        self.gins = nn.ModuleList()\n",
        "        self.gins.append(GINConv(nn.Sequential(\n",
        "            nn.Linear(in_dim, hidden),\n",
        "            nn.ReLU(),\n",
        "            nn.Linear(hidden, hidden)\n",
        "        )))\n",
        "        for _ in range(layers-1):\n",
        "            self.gins.append(GINConv(nn.Sequential(\n",
        "                nn.Linear(hidden, hidden),\n",
        "                nn.ReLU(),\n",
        "                nn.Linear(hidden, hidden)\n",
        "            )))\n",
        "        self.dropout = dropout\n",
        "        self.policy_head = nn.Linear(hidden, 2)   # 2 actions: spin +1 or -1\n",
        "        self.value_head  = nn.Linear(hidden, 1)   # scalar state value\n",
        "\n",
        "    def forward(self, data, node_idx):\n",
        "        x, edge_index = data.x, data.edge_index\n",
        "        for gin in self.gins:\n",
        "            x = gin(x, edge_index)\n",
        "            x = F.relu(x)                  # butuh F\n",
        "            x = F.dropout(x, p=self.dropout, training=self.training)\n",
        "        h = x[node_idx]\n",
        "        logits = self.policy_head(h)\n",
        "        V_s    = self.value_head(h).squeeze(-1)\n",
        "        return logits, V_s\n"
      ],
      "metadata": {
        "id": "2hQYQkb_NXrv"
      },
      "execution_count": 27,
      "outputs": []
    },
    {
      "cell_type": "code",
      "source": [
        "model, history = train_a2c(CFG)\n",
        "print(\"Training done.\")\n"
      ],
      "metadata": {
        "colab": {
          "base_uri": "https://localhost:8080/"
        },
        "id": "3ngd9mQPNoOa",
        "outputId": "62372844-a49c-40c5-d737-4484bd1bf4c5"
      },
      "execution_count": 28,
      "outputs": [
        {
          "output_type": "stream",
          "name": "stdout",
          "text": [
            "Epoch 002 | mean H: 3.62 | mean R: -3.62\n",
            "Epoch 004 | mean H: -0.98 | mean R: 0.98\n",
            "Epoch 006 | mean H: -0.80 | mean R: 0.80\n",
            "Epoch 008 | mean H: -1.17 | mean R: 1.17\n",
            "Epoch 010 | mean H: 0.52 | mean R: -0.52\n",
            "Epoch 012 | mean H: 0.63 | mean R: -0.63\n",
            "Epoch 014 | mean H: -1.25 | mean R: 1.25\n",
            "Epoch 016 | mean H: -2.72 | mean R: 2.72\n",
            "Epoch 018 | mean H: 2.07 | mean R: -2.07\n",
            "Epoch 020 | mean H: -2.43 | mean R: 2.43\n",
            "Epoch 022 | mean H: 1.40 | mean R: -1.40\n",
            "Epoch 024 | mean H: 1.95 | mean R: -1.95\n",
            "Epoch 026 | mean H: 0.53 | mean R: -0.53\n",
            "Epoch 028 | mean H: -2.00 | mean R: 2.00\n",
            "Epoch 030 | mean H: -1.48 | mean R: 1.48\n",
            "Training done.\n"
          ]
        }
      ]
    },
    {
      "cell_type": "code",
      "source": [
        "# === Cell (Plot training curves) ===\n",
        "import matplotlib.pyplot as plt\n",
        "\n",
        "plt.figure(figsize=(6,4))\n",
        "plt.plot(history[\"epoch\"], history[\"mean_energy\"], marker='o')\n",
        "plt.xlabel(\"epoch\"); plt.ylabel(\"mean episode energy (↓ better)\")\n",
        "plt.title(\"Energy during training\")\n",
        "plt.show()\n",
        "\n",
        "plt.figure(figsize=(6,4))\n",
        "plt.plot(history[\"epoch\"], history[\"mean_return\"], marker='o')\n",
        "plt.xlabel(\"epoch\"); plt.ylabel(\"mean return (↑ better)\")\n",
        "plt.title(\"Return during training\")\n",
        "plt.show()\n"
      ],
      "metadata": {
        "colab": {
          "base_uri": "https://localhost:8080/",
          "height": 803
        },
        "id": "xns5CaXIu8SY",
        "outputId": "842ad0f9-aa9f-424a-8833-c2ae3c648658"
      },
      "execution_count": 29,
      "outputs": [
        {
          "output_type": "display_data",
          "data": {
            "text/plain": [
              "<Figure size 600x400 with 1 Axes>"
            ],
            "image/png": "[encoded data removed]"
          },
          "metadata": {}
        },
        {
          "output_type": "display_data",
          "data": {
            "text/plain": [
              "<Figure size 600x400 with 1 Axes>"
            ],
            "image/png": "[encoded data removed]"
          },
          "metadata": {}
        }
      ]
    },
    {
      "cell_type": "markdown",
      "source": [
        "Cell 13 — Greedy Inference for RL Policy"
      ],
      "metadata": {
        "id": "dZJJmzW1u-lF"
      }
    },
    {
      "cell_type": "code",
      "source": [
        "@torch.no_grad()\n",
        "def eval_policy_on_graph(model, data: Data, node_order=\"degree\"):\n",
        "    model.eval()\n",
        "    data = data.to(DEVICE)\n",
        "    env = SpinGlassEnv(data, node_order=node_order)\n",
        "    while True:\n",
        "        node = env.get_state()\n",
        "        if node is None: break\n",
        "        logits, _ = model(data, node)\n",
        "        a_idx = torch.argmax(logits)  # greedy\n",
        "        action_spin = -1 if int(a_idx.item()) == 0 else 1\n",
        "        _, _, done = env.step(action_spin)\n",
        "        if done: break\n",
        "    H, spins = env.final_energy()\n",
        "    return H, spins\n",
        "\n",
        "# quick test\n",
        "G_test = make_er_graph(n=32, p=0.20, seed=123)\n",
        "d_test = to_pyg_data(G_test)\n",
        "H_rl, _ = eval_policy_on_graph(model, d_test, node_order=CFG[\"node_order\"])\n",
        "_, H_sa = simulated_annealing(d_test.edge_list_undirected, n=d_test.num_nodes, steps=3000, seed=1234)\n",
        "print(\"RL energy:\", H_rl, \"| SA energy:\", H_sa)\n"
      ],
      "metadata": {
        "colab": {
          "base_uri": "https://localhost:8080/"
        },
        "id": "LMbf3h3ZvBCM",
        "outputId": "2864c565-e0b3-467c-cacb-e27c1a4643d8"
      },
      "execution_count": 30,
      "outputs": [
        {
          "output_type": "stream",
          "name": "stdout",
          "text": [
            "RL energy: 4.0 | SA energy: -64.0\n"
          ]
        }
      ]
    },
    {
      "cell_type": "markdown",
      "source": [
        "Cell 14 — Batch Evaluation (Small: +ILP; Large: SA vs RL)"
      ],
      "metadata": {
        "id": "5NJ6hRbwvDFI"
      }
    },
    {
      "cell_type": "code",
      "source": [
        "def batch_evaluate(model, n, p, count=10, do_ilp=False, ilp_time_s=10, seed=0, graph_type=\"er\"):\n",
        "    rng = np.random.RandomState(seed)\n",
        "    H_rl, H_sa, H_ilp, gaps = [], [], [], []\n",
        "    for _ in tqdm(range(count), desc=f\"Eval n={n}\"):\n",
        "        data = generate_instance(graph_type, n=n, p=p, seed=int(rng.randint(1e9)))\n",
        "        # RL greedy\n",
        "        h_rl, _ = eval_policy_on_graph(model, data, node_order=CFG[\"node_order\"])\n",
        "        # SA\n",
        "        _, h_sa = simulated_annealing(data.edge_list_undirected, n=data.num_nodes, steps=3000, seed=int(rng.randint(1e9)))\n",
        "        H_rl.append(h_rl); H_sa.append(h_sa)\n",
        "        if do_ilp:\n",
        "            h_opt, obj, status = ilp_exact_maxcut_energy(data.edge_list_undirected, n=data.num_nodes, time_limit_s=ilp_time_s)\n",
        "            if h_opt is not None:\n",
        "                H_ilp.append(h_opt)\n",
        "                gaps.append( (h_rl - h_opt) / (abs(h_opt) + 1e-8) )\n",
        "    return {\"H_rl\":H_rl, \"H_sa\":H_sa, \"H_ilp\":H_ilp, \"gaps\":gaps}\n",
        "\n",
        "# Small graphs (compare to ILP)\n",
        "res_small = batch_evaluate(model, n=CFG[\"eval_small_n\"], p=CFG[\"eval_small_p\"], count=8, do_ilp=True, ilp_time_s=CFG[\"ilp_time_limit_s\"], seed=11, graph_type=\"er\")\n",
        "# Large graphs (no ILP)\n",
        "res_large = batch_evaluate(model, n=CFG[\"eval_large_n\"], p=CFG[\"eval_large_p\"], count=8, do_ilp=False, seed=22, graph_type=\"er\")\n",
        "\n",
        "print(\"Small — ILP solved:\", len(res_small[\"H_ilp\"]))\n",
        "print(\"Small — mean H_rl:\", np.mean(res_small[\"H_rl\"]), \"| mean H_sa:\", np.mean(res_small[\"H_sa\"]))\n",
        "if len(res_small[\"gaps\"])>0:\n",
        "    print(\"Small — mean RL relative gap to ILP:\", float(np.mean(res_small[\"gaps\"])))\n",
        "print(\"Large — mean H_rl:\", np.mean(res_large[\"H_rl\"]), \"| mean H_sa:\", np.mean(res_large[\"H_sa\"]))\n"
      ],
      "metadata": {
        "colab": {
          "base_uri": "https://localhost:8080/"
        },
        "id": "g3kJSLpQvFNE",
        "outputId": "3a8aa244-18e3-4367-a59d-2a4cddbbb98e"
      },
      "execution_count": 31,
      "outputs": [
        {
          "output_type": "stream",
          "name": "stderr",
          "text": [
            "Eval n=22: 100%|██████████| 8/8 [00:00<00:00, 10.66it/s]\n",
            "Eval n=80: 100%|██████████| 8/8 [00:01<00:00,  6.28it/s]"
          ]
        },
        {
          "output_type": "stream",
          "name": "stdout",
          "text": [
            "Small — ILP solved: 8\n",
            "Small — mean H_rl: -1.875 | mean H_sa: -34.375\n",
            "Small — mean RL relative gap to ILP: 0.9445409235558024\n",
            "Large — mean H_rl: 1.75 | mean H_sa: -185.0\n"
          ]
        },
        {
          "output_type": "stream",
          "name": "stderr",
          "text": [
            "\n"
          ]
        }
      ]
    },
    {
      "cell_type": "markdown",
      "source": [
        "Cell 15 — Plots: RL vs SA, RL gap ke ILP"
      ],
      "metadata": {
        "id": "E-wf_rgAvHF2"
      }
    },
    {
      "cell_type": "code",
      "source": [
        "def boxplot_compare(a, b, title):\n",
        "    plt.figure(figsize=(6,4))\n",
        "    plt.boxplot([a, b], labels=['RL','SA'])\n",
        "    plt.ylabel(\"Energy (lower better)\")\n",
        "    plt.title(title); plt.show()\n",
        "\n",
        "boxplot_compare(res_small[\"H_rl\"], res_small[\"H_sa\"], f\"Small ER (n≈{CFG['eval_small_n']}) — RL vs SA\")\n",
        "boxplot_compare(res_large[\"H_rl\"], res_large[\"H_sa\"], f\"Large ER (n≈{CFG['eval_large_n']}) — RL vs SA\")\n",
        "\n",
        "if len(res_small[\"gaps\"]) > 0:\n",
        "    plt.figure(figsize=(6,4))\n",
        "    plt.hist(res_small[\"gaps\"], bins=10)\n",
        "    plt.xlabel(\"Relative gap (RL - ILP) / |ILP|\")\n",
        "    plt.title(\"RL gaps to optimal (small graphs)\")\n",
        "    plt.show()\n"
      ],
      "metadata": {
        "colab": {
          "base_uri": "https://localhost:8080/",
          "height": 1000
        },
        "id": "ndjoyGS0vJVd",
        "outputId": "75aebb17-da1a-4edb-909f-47cf2a680c98"
      },
      "execution_count": 32,
      "outputs": [
        {
          "output_type": "stream",
          "name": "stderr",
          "text": [
            "/tmp/ipython-input-321899721.py:3: MatplotlibDeprecationWarning: The 'labels' parameter of boxplot() has been renamed 'tick_labels' since Matplotlib 3.9; support for the old name will be dropped in 3.11.\n",
            "  plt.boxplot([a, b], labels=['RL','SA'])\n"
          ]
        },
        {
          "output_type": "display_data",
          "data": {
            "text/plain": [
              "<Figure size 600x400 with 1 Axes>"
            ],
            "image/png": "[encoded data removed]"
          },
          "metadata": {}
        },
        {
          "output_type": "stream",
          "name": "stderr",
          "text": [
            "/tmp/ipython-input-321899721.py:3: MatplotlibDeprecationWarning: The 'labels' parameter of boxplot() has been renamed 'tick_labels' since Matplotlib 3.9; support for the old name will be dropped in 3.11.\n",
            "  plt.boxplot([a, b], labels=['RL','SA'])\n"
          ]
        },
        {
          "output_type": "display_data",
          "data": {
            "text/plain": [
              "<Figure size 600x400 with 1 Axes>"
            ],
            "image/png": "[encoded data removed]"
          },
          "metadata": {}
        },
        {
          "output_type": "display_data",
          "data": {
            "text/plain": [
              "<Figure size 600x400 with 1 Axes>"
            ],
            "image/png": "[encoded data removed]"
          },
          "metadata": {}
        }
      ]
    },
    {
      "cell_type": "markdown",
      "source": [
        "Cell 16 — Save Artifacts (Model, History, Eval)"
      ],
      "metadata": {
        "id": "r8FgU50CvLNe"
      }
    },
    {
      "cell_type": "code",
      "source": [
        "os.makedirs(\"artifacts\", exist_ok=True)\n",
        "torch.save(model.state_dict(), \"artifacts/spinglass_rl_gnn.pt\")\n",
        "with open(\"artifacts/train_history.json\",\"w\") as f:\n",
        "    json.dump(history, f, indent=2)\n",
        "np.savez(\"artifacts/eval_small.npz\",\n",
        "         H_rl=np.array(res_small[\"H_rl\"], dtype=float),\n",
        "         H_sa=np.array(res_small[\"H_sa\"], dtype=float),\n",
        "         H_ilp=np.array(res_small[\"H_ilp\"], dtype=float),\n",
        "         gaps=np.array(res_small[\"gaps\"], dtype=float))\n",
        "np.savez(\"artifacts/eval_large.npz\",\n",
        "         H_rl=np.array(res_large[\"H_rl\"], dtype=float),\n",
        "         H_sa=np.array(res_large[\"H_sa\"], dtype=float))\n",
        "print(\"Saved to artifacts/.\")\n"
      ],
      "metadata": {
        "colab": {
          "base_uri": "https://localhost:8080/"
        },
        "id": "mmc6Sa0SvNVY",
        "outputId": "ffbff77f-0d78-42cc-c93c-1ea937fc4e02"
      },
      "execution_count": 33,
      "outputs": [
        {
          "output_type": "stream",
          "name": "stdout",
          "text": [
            "Saved to artifacts/.\n"
          ]
        }
      ]
    },
    {
      "cell_type": "markdown",
      "source": [
        "Cell 17 — (Optional) Swap GNN Backbone to GIN (Stronger Expressivity)"
      ],
      "metadata": {
        "id": "BAkI1vIlvPXb"
      }
    },
    {
      "cell_type": "code",
      "source": [
        "class PolicyValueGIN(nn.Module):\n",
        "    def __init__(self, in_dim=3, hidden=128, layers=3, dropout=0.1):\n",
        "        super().__init__()\n",
        "        self.layers = nn.ModuleList()\n",
        "        self.layers.append(GINConv(nn.Sequential(nn.Linear(in_dim, hidden), nn.ReLU(), nn.Linear(hidden, hidden))))\n",
        "        for _ in range(layers-1):\n",
        "            self.layers.append(GINConv(nn.Sequential(nn.Linear(hidden, hidden), nn.ReLU(), nn.Linear(hidden, hidden))))\n",
        "        self.dropout = nn.Dropout(dropout)\n",
        "        self.policy_head = nn.Sequential(nn.Linear(hidden, hidden), nn.ReLU(), nn.Dropout(dropout), nn.Linear(hidden, 2))\n",
        "        self.value_head  = nn.Sequential(nn.Linear(hidden, hidden), nn.ReLU(), nn.Dropout(dropout), nn.Linear(hidden, 1))\n",
        "\n",
        "    def embed(self, data: Data):\n",
        "        h = data.x\n",
        "        for conv in self.layers:\n",
        "            h = conv(h, data.edge_index)\n",
        "            h = torch.relu(h); h = self.dropout(h)\n",
        "        batch = torch.zeros(h.size(0), dtype=torch.long, device=h.device)\n",
        "        g = global_mean_pool(h, batch)\n",
        "        return h, g\n",
        "\n",
        "    def forward(self, data: Data, node_idx: int):\n",
        "        h, g = self.embed(data)\n",
        "        logits = self.policy_head(h[node_idx])\n",
        "        value  = self.value_head(g).squeeze(-1)\n",
        "        return logits, value\n",
        "\n",
        "# Contoh ganti model:\n",
        "# model = PolicyValueGIN(in_dim=3, hidden=CFG[\"hidden\"], layers=CFG[\"gcn_layers\"], dropout=CFG[\"dropout\"]).to(DEVICE)\n"
      ],
      "metadata": {
        "id": "u50yMPsUvRW_"
      },
      "execution_count": 34,
      "outputs": []
    },
    {
      "cell_type": "markdown",
      "source": [
        "### Notes & Next Steps\n",
        "- **A2C vs REINFORCE:** Kita pakai TD(0) sederhana. Bisa ditingkatkan ke full A2C (bootstrapping V_{t+1}) dengan menyimpan state sebelum step untuk evaluasi V_next akurat.\n",
        "- **Curriculum:** Ukuran graf bertahap (`train_sizes`). Tambahkan variasi topologi: ER + 3-regular + grid.\n",
        "- **Permutation invariance:** Augmentasi `permute_nodes` membantu generalisasi.\n",
        "- **QAOA Bridge:** Untuk n kecil, simulasikan QAOA (depth p=1..3) via PennyLane/qiskit dan bandingkan energi terhadap RL/SA.\n",
        "- **Edge features:** Saat ini J dipakai sebagai `edge_weight` (GCNConv). Untuk GIN/GAT, feed J sebagai fitur (mis. edge encoder) atau duplikasi ke node via message.\n",
        "- **Calibration:** Laporkan distribusi gap & waktu komputasi; jelaskan trade-off kualitas vs runtime.\n",
        "- **Paperization:** Buat mini-paper (4 halaman) + poster 1 halaman dari plot & tabel hasil.\n"
      ],
      "metadata": {
        "id": "MNS-qeqXveB_"
      }
    },
    {
      "cell_type": "markdown",
      "source": [
        "Cell 19 — Checkpointing & Utils (seed, timer, saver/loader)"
      ],
      "metadata": {
        "id": "9R-ksG4Cv8ik"
      }
    },
    {
      "cell_type": "code",
      "source": [
        "import time\n",
        "from pathlib import Path\n",
        "\n",
        "CKPT_DIR = Path(\"checkpoints\"); CKPT_DIR.mkdir(exist_ok=True)\n",
        "ART_DIR  = Path(\"artifacts\");   ART_DIR.mkdir(exist_ok=True)\n",
        "\n",
        "def set_seed(seed=42):\n",
        "    import random, numpy as np, torch\n",
        "    random.seed(seed); np.random.seed(seed); torch.manual_seed(seed)\n",
        "    if torch.cuda.is_available():\n",
        "        torch.cuda.manual_seed_all(seed)\n",
        "\n",
        "class Timer:\n",
        "    def __init__(self): self.t0 = time.time()\n",
        "    def reset(self): self.t0 = time.time()\n",
        "    def elapsed(self): return time.time() - self.t0\n",
        "\n",
        "def save_ckpt(model, cfg, name=\"a2c_best.pt\"):\n",
        "    path = CKPT_DIR / name\n",
        "    torch.save({\"state_dict\": model.state_dict(), \"cfg\": cfg}, path)\n",
        "    print(f\"✅ Saved checkpoint → {path}\")\n",
        "    return str(path)\n",
        "\n",
        "def load_ckpt(model, path):\n",
        "    ckpt = torch.load(path, map_location=DEVICE)\n",
        "    model.load_state_dict(ckpt[\"state_dict\"])\n",
        "    print(f\"✅ Loaded checkpoint from {path}\")\n"
      ],
      "metadata": {
        "id": "ClonfDi80eti"
      },
      "execution_count": 35,
      "outputs": []
    },
    {
      "cell_type": "markdown",
      "source": [
        "Cell 20 — Validasi Set & Early‑Stopping A2C (bootstrapped advantages)"
      ],
      "metadata": {
        "id": "dG3uCtnm0kqg"
      }
    },
    {
      "cell_type": "code",
      "source": [
        "# === Cell 20 (versi stabil): Early-Stop A2C dengan GIN + safe forward + guard ===\n",
        "@torch.no_grad()\n",
        "def mean_val_energy(model, valset, node_order=\"degree\"):\n",
        "    vals = []\n",
        "    for data in valset:\n",
        "        H, _ = eval_policy_on_graph(model, data, node_order=node_order)\n",
        "        vals.append(H)\n",
        "    return float(np.mean(vals)) if len(vals) else float(\"nan\")\n",
        "\n",
        "def train_a2c_earlystop(cfg=CFG, patience=5):\n",
        "    # Pakai GIN agar tidak kena normalisasi degree (lebih kebal NaN)\n",
        "    model = PolicyValueGIN(\n",
        "        in_dim=3, hidden=cfg[\"hidden\"],\n",
        "        layers=cfg[\"gcn_layers\"], dropout=cfg[\"dropout\"]\n",
        "    ).to(DEVICE)\n",
        "\n",
        "    opt = torch.optim.AdamW(model.parameters(), lr=cfg[\"lr\"])\n",
        "    history = {\n",
        "        \"epoch\": [], \"mean_energy\": [], \"mean_return\": [],\n",
        "        \"policy_loss\": [], \"value_loss\": [], \"entropy\": [], \"val_energy\": []\n",
        "    }\n",
        "\n",
        "    # fixed validation set\n",
        "    VALSET = build_valset(\n",
        "        graph_type=cfg[\"train_graph_type\"],\n",
        "        n=max(cfg[\"train_sizes\"]), p=cfg[\"train_p\"],\n",
        "        count=12, seed=777\n",
        "    )\n",
        "\n",
        "    # safe forward: detach+clone x agar env.step (in-place) tidak merusak autograd\n",
        "    def safe_forward(data, node_idx):\n",
        "        data_view = Data(\n",
        "            x=data.x.detach().clone(),\n",
        "            edge_index=data.edge_index,\n",
        "            edge_weight=data.edge_weight,\n",
        "            num_nodes=data.num_nodes\n",
        "        ).to(DEVICE)\n",
        "        return model(data_view, node_idx)\n",
        "\n",
        "    best_val = float(\"inf\"); best_path = None; wait = 0\n",
        "    t0 = time.time()\n",
        "\n",
        "    for epoch in range(1, cfg[\"epochs\"]+1):\n",
        "        returns, energies = [], []\n",
        "        ep_policy, ep_value, ep_entropy = [], [], []\n",
        "\n",
        "        sizes = cfg[\"train_sizes\"]\n",
        "        for epi in range(cfg[\"episodes_per_epoch\"]):\n",
        "            n = sizes[epi % len(sizes)]\n",
        "            data = generate_instance(cfg[\"train_graph_type\"], n=n, p=cfg[\"train_p\"],\n",
        "                                     seed=random.randint(0, 10**9))\n",
        "            if random.random() < 0.5:\n",
        "                data = permute_nodes(data, seed=random.randint(0, 10**9))\n",
        "            data = data.to(DEVICE)\n",
        "            env = SpinGlassEnv(data, node_order=cfg[\"node_order\"])\n",
        "\n",
        "            logps, values, rewards, entropies = [], [], [], []\n",
        "            bad_episode = False\n",
        "\n",
        "            while True:\n",
        "                node = env.get_state()\n",
        "                if node is None: break\n",
        "\n",
        "                logits, V_s = safe_forward(data, node)\n",
        "\n",
        "                # Guard numerik\n",
        "                if not torch.isfinite(logits).all():\n",
        "                    bad_episode = True\n",
        "                    break\n",
        "                dist = Categorical(logits=logits)\n",
        "                probs = dist.probs\n",
        "                if probs is None or not torch.isfinite(probs).all():\n",
        "                    bad_episode = True\n",
        "                    break\n",
        "\n",
        "                a_idx = dist.sample()\n",
        "                action_spin = -1 if a_idx.item() == 0 else 1\n",
        "\n",
        "                # Env update (boleh in-place; kita selalu pakai safe_forward)\n",
        "                _, r, done = env.step(action_spin)\n",
        "\n",
        "                # Simpan terms\n",
        "                lp = dist.log_prob(a_idx)\n",
        "                ent = dist.entropy()\n",
        "\n",
        "                if not (torch.isfinite(lp).all() and torch.isfinite(ent).all() and torch.isfinite(V_s).all()):\n",
        "                    bad_episode = True\n",
        "                    break\n",
        "\n",
        "                logps.append(lp)\n",
        "                entropies.append(ent)\n",
        "                values.append(V_s)\n",
        "                rewards.append(torch.tensor(r, dtype=torch.float32, device=DEVICE))\n",
        "\n",
        "                if done: break\n",
        "\n",
        "            if bad_episode or len(rewards) == 0:\n",
        "                continue  # skip episode\n",
        "\n",
        "            # Loss A2C sederhana (tanpa bootstrap dulu untuk stabilitas awal)\n",
        "            policy_loss = torch.tensor(0.0, device=DEVICE)\n",
        "            value_loss  = torch.tensor(0.0, device=DEVICE)\n",
        "            for tstep in range(len(rewards)):\n",
        "                V_s = values[tstep]\n",
        "                V_next = torch.tensor(0.0, device=DEVICE)  # bisa diaktifkan bootstrapping nanti\n",
        "                td_target = rewards[tstep] + cfg[\"gamma\"] * V_next\n",
        "                adv = td_target - V_s\n",
        "\n",
        "                policy_loss = policy_loss - adv.detach() * logps[tstep]\n",
        "                value_loss  = value_loss  + 0.5 * adv.pow(2)\n",
        "\n",
        "            ent_stack = torch.stack(entropies)\n",
        "            ent_stack = torch.where(torch.isfinite(ent_stack), ent_stack, torch.zeros_like(ent_stack))\n",
        "            entropy_term = - cfg[\"entropy_coef\"] * ent_stack.mean()\n",
        "\n",
        "            loss = policy_loss + cfg[\"value_coef\"] * value_loss + entropy_term\n",
        "\n",
        "            opt.zero_grad()\n",
        "            loss.backward()\n",
        "            nn.utils.clip_grad_norm_(model.parameters(), cfg[\"grad_clip\"])\n",
        "            opt.step()\n",
        "\n",
        "            # Episode stats\n",
        "            H_final, _ = env.final_energy()\n",
        "            returns.append(sum([r.item() for r in rewards]))\n",
        "            energies.append(H_final)\n",
        "            ep_policy.append(policy_loss.item()); ep_value.append(value_loss.item()); ep_entropy.append(entropy_term.item())\n",
        "\n",
        "        # Epoch logs\n",
        "        meanH = float(np.mean(energies)) if energies else float(\"nan\")\n",
        "        meanR = float(np.mean(returns))  if returns  else float(\"nan\")\n",
        "        history[\"epoch\"].append(epoch)\n",
        "        history[\"mean_energy\"].append(meanH)\n",
        "        history[\"mean_return\"].append(meanR)\n",
        "        history[\"policy_loss\"].append(float(np.nanmean(ep_policy)) if ep_policy else float(\"nan\"))\n",
        "        history[\"value_loss\"].append(float(np.nanmean(ep_value))  if ep_value  else float(\"nan\"))\n",
        "        history[\"entropy\"].append(float(np.nanmean(ep_entropy))   if ep_entropy else float(\"nan\"))\n",
        "\n",
        "        # Validation\n",
        "        model.eval()\n",
        "        valH = mean_val_energy(model, VALSET, node_order=cfg[\"node_order\"])\n",
        "        model.train()\n",
        "        history[\"val_energy\"].append(valH)\n",
        "\n",
        "        dt = time.time() - t0; t0 = time.time()\n",
        "        print(f\"Epoch {epoch:03d} | train H {np.nan_to_num(meanH):.2f} | val H {valH:.2f} | Δt {dt:.1f}s\")\n",
        "\n",
        "        # Early stopping\n",
        "        if valH < best_val:\n",
        "            best_val = valH; wait = 0\n",
        "            best_path = save_ckpt(model, cfg, name=\"a2c_best.pt\")\n",
        "        else:\n",
        "            wait += 1\n",
        "            if wait >= patience:\n",
        "                print(f\"⛳ Early stop at epoch {epoch} (no val improvement for {patience} epochs).\")\n",
        "                break\n",
        "\n",
        "    # Load best\n",
        "    if best_path is not None:\n",
        "        load_ckpt(model, best_path)\n",
        "\n",
        "    return model, history\n",
        "\n",
        "# Jalankan training early-stop versi stabil\n",
        "model2, history2 = train_a2c_earlystop(CFG, patience=5)\n"
      ],
      "metadata": {
        "colab": {
          "base_uri": "https://localhost:8080/"
        },
        "id": "V8A_2fMC0nIn",
        "outputId": "c2e96cae-75f8-4942-e681-d231b89cb563"
      },
      "execution_count": 37,
      "outputs": [
        {
          "output_type": "stream",
          "name": "stdout",
          "text": [
            "Epoch 001 | train H -0.65 | val H -3.08 | Δt 38.1s\n",
            "✅ Saved checkpoint → checkpoints/a2c_best.pt\n",
            "Epoch 002 | train H -0.33 | val H -3.58 | Δt 13.3s\n",
            "✅ Saved checkpoint → checkpoints/a2c_best.pt\n",
            "Epoch 003 | train H -0.12 | val H -3.58 | Δt 13.3s\n",
            "Epoch 004 | train H 3.67 | val H -3.75 | Δt 13.3s\n",
            "✅ Saved checkpoint → checkpoints/a2c_best.pt\n",
            "Epoch 005 | train H -1.52 | val H -3.58 | Δt 13.4s\n",
            "Epoch 006 | train H 0.35 | val H -3.58 | Δt 13.7s\n",
            "Epoch 007 | train H -1.48 | val H -3.58 | Δt 14.9s\n",
            "Epoch 008 | train H -3.00 | val H -3.58 | Δt 15.2s\n",
            "Epoch 009 | train H 3.13 | val H -3.58 | Δt 13.4s\n",
            "⛳ Early stop at epoch 9 (no val improvement for 5 epochs).\n",
            "✅ Loaded checkpoint from checkpoints/a2c_best.pt\n"
          ]
        }
      ]
    },
    {
      "cell_type": "markdown",
      "source": [
        "\n",
        "\n",
        "> Catatan: untuk stabilitas, di dalam loop kita pakai bootstrap sederhana. Kamu bisa ganti V_next dengan evaluasi ulang model(data, next_node)[1] yang disimpan saat rollout bila ingin TD(0) yang tepat.\n",
        "\n"
      ],
      "metadata": {
        "id": "ckSxa_KI0pC1"
      }
    },
    {
      "cell_type": "markdown",
      "source": [
        "Cell 21 — Plot Loss Curves (policy/value/entropy) & Val Energy"
      ],
      "metadata": {
        "id": "j6gXjhWJ0xxz"
      }
    },
    {
      "cell_type": "code",
      "source": [
        "plt.figure(figsize=(6,4))\n",
        "plt.plot(history2[\"epoch\"], history2[\"mean_energy\"], label=\"train H\")\n",
        "plt.plot(history2[\"epoch\"], history2[\"val_energy\"], label=\"val H\")\n",
        "plt.xlabel(\"epoch\"); plt.ylabel(\"energy (↓ better)\"); plt.legend(); plt.title(\"Energy vs Epoch\")\n",
        "plt.show()\n",
        "\n",
        "plt.figure(figsize=(6,4))\n",
        "plt.plot(history2[\"epoch\"], history2[\"policy_loss\"], label=\"policy\")\n",
        "plt.plot(history2[\"epoch\"], history2[\"value_loss\"], label=\"value\")\n",
        "plt.plot(history2[\"epoch\"], history2[\"entropy\"], label=\"entropy (neg.)\")\n",
        "plt.xlabel(\"epoch\"); plt.ylabel(\"loss\"); plt.legend(); plt.title(\"Loss Terms vs Epoch\")\n",
        "plt.show()\n"
      ],
      "metadata": {
        "colab": {
          "base_uri": "https://localhost:8080/",
          "height": 803
        },
        "id": "KkGXSIGU0xBf",
        "outputId": "fb9cc71c-0304-43b4-8edd-11ec1bca5e8d"
      },
      "execution_count": 38,
      "outputs": [
        {
          "output_type": "display_data",
          "data": {
            "text/plain": [
              "<Figure size 600x400 with 1 Axes>"
            ],
            "image/png": "[encoded data removed]"
          },
          "metadata": {}
        },
        {
          "output_type": "display_data",
          "data": {
            "text/plain": [
              "<Figure size 600x400 with 1 Axes>"
            ],
            "image/png": "[encoded data removed]"
          },
          "metadata": {}
        }
      ]
    },
    {
      "cell_type": "markdown",
      "source": [
        "Cell 22 — Post‑processing: Local Refinement (Zero‑T Hill‑Climb)"
      ],
      "metadata": {
        "id": "84jfB3FE02bF"
      }
    },
    {
      "cell_type": "code",
      "source": [
        "def local_refine(edge_list, spins):\n",
        "    \"\"\"Greedy 1-opt flipping until no single-node flip improves H.\"\"\"\n",
        "    n = len(spins)\n",
        "    # build neighbor map\n",
        "    nbrs = [[] for _ in range(n)]\n",
        "    for (u,v,J) in edge_list:\n",
        "        nbrs[u].append((v,J)); nbrs[v].append((u,J))\n",
        "\n",
        "    def local_dH(i):\n",
        "        s = spins[i]\n",
        "        return 2.0 * s * sum(J * spins[j] for (j,J) in nbrs[i])\n",
        "\n",
        "    improved = True\n",
        "    H = energy_from_spins(edge_list, spins)\n",
        "    while improved:\n",
        "        improved = False\n",
        "        best_dH, best_i = 0.0, -1\n",
        "        for i in range(n):\n",
        "            dH = local_dH(i)\n",
        "            if dH < best_dH:  # negative ΔH reduces energy\n",
        "                best_dH, best_i = dH, i\n",
        "        if best_i >= 0:\n",
        "            spins[best_i] *= -1\n",
        "            H += best_dH\n",
        "            improved = True\n",
        "    return H, spins\n",
        "\n",
        "# Evaluate RL → local refine\n",
        "G_eval = make_er_graph(n=CFG[\"eval_large_n\"], p=CFG[\"eval_large_p\"], seed=999)\n",
        "d_eval = to_pyg_data(G_eval)\n",
        "H_rl, spins = eval_policy_on_graph(model2, d_eval, node_order=CFG[\"node_order\"])\n",
        "H_ref, spins_ref = local_refine(d_eval.edge_list_undirected, spins.copy())\n",
        "_, H_sa = simulated_annealing(d_eval.edge_list_undirected, d_eval.num_nodes, steps=4000, seed=123)\n",
        "\n",
        "print(f\"RL energy: {H_rl:.1f} → refined: {H_ref:.1f} | SA: {H_sa:.1f}\")\n"
      ],
      "metadata": {
        "colab": {
          "base_uri": "https://localhost:8080/"
        },
        "id": "rY_wcYI904oc",
        "outputId": "f09c54cc-71bf-443f-bf02-3c8d3aa08b8a"
      },
      "execution_count": 39,
      "outputs": [
        {
          "output_type": "stream",
          "name": "stdout",
          "text": [
            "RL energy: -6.0 → refined: -160.0 | SA: -188.0\n"
          ]
        }
      ]
    },
    {
      "cell_type": "markdown",
      "source": [
        "Cell 23 — Cross‑Topology Generalization (Grid & 3‑Regular)"
      ],
      "metadata": {
        "id": "jW4oPNO906r3"
      }
    },
    {
      "cell_type": "code",
      "source": [
        "def eval_topology(model, graph_type, n, count=10, p=0.2, seed=0):\n",
        "    rng = np.random.RandomState(seed)\n",
        "    H_rl, H_ref, H_sa = [], [], []\n",
        "    for _ in tqdm(range(count), desc=f\"Eval {graph_type}\"):\n",
        "        data = generate_instance(graph_type, n=n, p=p, seed=int(rng.randint(1e9)))\n",
        "        h_rl, spins = eval_policy_on_graph(model, data, node_order=CFG[\"node_order\"])\n",
        "        h_ref, _ = local_refine(data.edge_list_undirected, spins.copy())\n",
        "        _, h_sa = simulated_annealing(data.edge_list_undirected, data.num_nodes, steps=3000, seed=int(rng.randint(1e9)))\n",
        "        H_rl.append(h_rl); H_ref.append(h_ref); H_sa.append(h_sa)\n",
        "    return {\"H_rl\":H_rl, \"H_ref\":H_ref, \"H_sa\":H_sa}\n",
        "\n",
        "res_grid = eval_topology(model2, \"grid\", n=64, count=8, p=0.0, seed=123)   # p ignored for grid\n",
        "res_reg3 = eval_topology(model2, \"reg3\", n=66, count=8, p=0.0, seed=456)  # 3-regular\n",
        "\n",
        "def box3(a,b,c,title):\n",
        "    plt.figure(figsize=(6,4))\n",
        "    plt.boxplot([a,b,c], labels=[\"RL\",\"RL+refine\",\"SA\"])\n",
        "    plt.ylabel(\"Energy (↓)\"); plt.title(title); plt.show()\n",
        "\n",
        "box3(res_grid[\"H_rl\"], res_grid[\"H_ref\"], res_grid[\"H_sa\"], \"Grid graphs\")\n",
        "box3(res_reg3[\"H_rl\"], res_reg3[\"H_ref\"], res_reg3[\"H_sa\"], \"3-regular graphs\")\n"
      ],
      "metadata": {
        "colab": {
          "base_uri": "https://localhost:8080/",
          "height": 892
        },
        "id": "3rMZZPsi1KoO",
        "outputId": "2351e95c-b19b-409b-c80a-d39b49423c43"
      },
      "execution_count": 40,
      "outputs": [
        {
          "output_type": "stream",
          "name": "stderr",
          "text": [
            "Eval grid: 100%|██████████| 8/8 [00:00<00:00,  8.12it/s]\n",
            "Eval reg3: 100%|██████████| 8/8 [00:00<00:00,  8.05it/s]\n",
            "/tmp/ipython-input-486748747.py:17: MatplotlibDeprecationWarning: The 'labels' parameter of boxplot() has been renamed 'tick_labels' since Matplotlib 3.9; support for the old name will be dropped in 3.11.\n",
            "  plt.boxplot([a,b,c], labels=[\"RL\",\"RL+refine\",\"SA\"])\n"
          ]
        },
        {
          "output_type": "display_data",
          "data": {
            "text/plain": [
              "<Figure size 600x400 with 1 Axes>"
            ],
            "image/png": "[encoded data removed]"
          },
          "metadata": {}
        },
        {
          "output_type": "stream",
          "name": "stderr",
          "text": [
            "/tmp/ipython-input-486748747.py:17: MatplotlibDeprecationWarning: The 'labels' parameter of boxplot() has been renamed 'tick_labels' since Matplotlib 3.9; support for the old name will be dropped in 3.11.\n",
            "  plt.boxplot([a,b,c], labels=[\"RL\",\"RL+refine\",\"SA\"])\n"
          ]
        },
        {
          "output_type": "display_data",
          "data": {
            "text/plain": [
              "<Figure size 600x400 with 1 Axes>"
            ],
            "image/png": "[encoded data removed]"
          },
          "metadata": {}
        }
      ]
    },
    {
      "cell_type": "markdown",
      "source": [
        "Cell 24 — Size Scaling Study (Energy per Edge vs n)"
      ],
      "metadata": {
        "id": "pCFYM9oa1Mfz"
      }
    },
    {
      "cell_type": "code",
      "source": [
        "def scaling_curve(model, sizes, p=0.2, trials=5, graph_type=\"er\", refine=True, seed=321):\n",
        "    rng = np.random.RandomState(seed)\n",
        "    xs, ys_rl, ys_ref, ys_sa = [], [], [], []\n",
        "    for n in sizes:\n",
        "        Hrl, Hrf, Hsa = [], [], []\n",
        "        for _ in range(trials):\n",
        "            data = generate_instance(graph_type, n=n, p=p, seed=int(rng.randint(1e9)))\n",
        "            m = len(data.edge_list_undirected)\n",
        "            h_rl, spins = eval_policy_on_graph(model, data, node_order=CFG[\"node_order\"])\n",
        "            if refine:\n",
        "                h_ref, _ = local_refine(data.edge_list_undirected, spins.copy())\n",
        "            else:\n",
        "                h_ref = h_rl\n",
        "            _, h_sa = simulated_annealing(data.edge_list_undirected, data.num_nodes, steps=3000, seed=int(rng.randint(1e9)))\n",
        "            Hrl.append(h_rl/m); Hrf.append(h_ref/m); Hsa.append(h_sa/m)\n",
        "        xs.append(n)\n",
        "        ys_rl.append(np.mean(Hrl)); ys_ref.append(np.mean(Hrf)); ys_sa.append(np.mean(Hsa))\n",
        "    return xs, ys_rl, ys_ref, ys_sa\n",
        "\n",
        "sizes = list(range(20, 121, 20))\n",
        "xs, yrl, yrf, ysa = scaling_curve(model2, sizes, p=CFG[\"train_p\"], trials=4, graph_type=\"er\", refine=True)\n",
        "\n",
        "plt.figure(figsize=(6,4))\n",
        "plt.plot(xs, yrl, 'o-', label=\"RL\")\n",
        "plt.plot(xs, yrf, 'o-', label=\"RL+refine\")\n",
        "plt.plot(xs, ysa, 'o-', label=\"SA\")\n",
        "plt.xlabel(\"n (nodes)\"); plt.ylabel(\"Energy per edge (↓)\")\n",
        "plt.title(\"Scaling on ER graphs\"); plt.legend(); plt.show()\n"
      ],
      "metadata": {
        "colab": {
          "base_uri": "https://localhost:8080/",
          "height": 410
        },
        "id": "_Km_heFL1OmO",
        "outputId": "058094f4-fc92-43dd-b6ac-0db7084ea11d"
      },
      "execution_count": 41,
      "outputs": [
        {
          "output_type": "display_data",
          "data": {
            "text/plain": [
              "<Figure size 600x400 with 1 Axes>"
            ],
            "image/png": "[encoded data removed]"
          },
          "metadata": {}
        }
      ]
    },
    {
      "cell_type": "markdown",
      "source": [
        "Cell 25 — Ablation Tests (No‑J edges / No‑degree feature)"
      ],
      "metadata": {
        "id": "6M2utuO91QgI"
      }
    },
    {
      "cell_type": "code",
      "source": [
        "@torch.no_grad()\n",
        "def eval_ablation(model, data: Data, drop_degree=False, ignore_J=False, node_order=\"degree\"):\n",
        "    data = data.clone()\n",
        "    if drop_degree:\n",
        "        data.x = data.x.clone()\n",
        "        data.x[:,2] = 0.0\n",
        "    if ignore_J:\n",
        "        # Pass zero weights (equivalent to unweighted GCN); keep topology only\n",
        "        data.edge_weight = torch.ones_like(data.edge_weight, device=DEVICE)\n",
        "    return eval_policy_on_graph(model, data, node_order=node_order)\n",
        "\n",
        "# Run ablations on a batch\n",
        "rng = np.random.RandomState(999)\n",
        "H_base, H_noJ, H_noDeg = [], [], []\n",
        "for _ in range(6):\n",
        "    data = generate_instance(\"er\", n=CFG[\"eval_small_n\"], p=CFG[\"eval_small_p\"], seed=int(rng.randint(1e9)))\n",
        "    h0, _ = eval_policy_on_graph(model2, data); H_base.append(h0)\n",
        "    h1, _ = eval_ablation(model2, data, drop_degree=False, ignore_J=True); H_noJ.append(h1)\n",
        "    h2, _ = eval_ablation(model2, data, drop_degree=True,  ignore_J=False); H_noDeg.append(h2)\n",
        "\n",
        "plt.figure(figsize=(6,4))\n",
        "plt.boxplot([H_base, H_noJ, H_noDeg], labels=[\"Base\",\"Ignore J\",\"No degree\"])\n",
        "plt.ylabel(\"Energy (↓)\"); plt.title(\"Ablations\"); plt.show()\n"
      ],
      "metadata": {
        "colab": {
          "base_uri": "https://localhost:8080/",
          "height": 447
        },
        "id": "jOodM2Bv1tyG",
        "outputId": "d367db7d-def2-4486-8f70-31c461571d14"
      },
      "execution_count": 42,
      "outputs": [
        {
          "output_type": "stream",
          "name": "stderr",
          "text": [
            "/tmp/ipython-input-2898014052.py:22: MatplotlibDeprecationWarning: The 'labels' parameter of boxplot() has been renamed 'tick_labels' since Matplotlib 3.9; support for the old name will be dropped in 3.11.\n",
            "  plt.boxplot([H_base, H_noJ, H_noDeg], labels=[\"Base\",\"Ignore J\",\"No degree\"])\n"
          ]
        },
        {
          "output_type": "display_data",
          "data": {
            "text/plain": [
              "<Figure size 600x400 with 1 Axes>"
            ],
            "image/png": "[encoded data removed]"
          },
          "metadata": {}
        }
      ]
    },
    {
      "cell_type": "markdown",
      "source": [
        "Cell 26 — Mini Hyper‑Parameter Sweep (hidden, entropy_coef)"
      ],
      "metadata": {
        "id": "KWqtB8-b1vvo"
      }
    },
    {
      "cell_type": "code",
      "source": [
        "def quick_train(cfg_overrides):\n",
        "    cfg = dict(CFG); cfg.update(cfg_overrides)\n",
        "    model, hist = train_a2c_earlystop(cfg, patience=3)\n",
        "    valH = mean_val_energy(model, VALSET, node_order=cfg[\"node_order\"])\n",
        "    return valH\n",
        "\n",
        "sweep = [\n",
        "    {\"hidden\": 96,  \"entropy_coef\": 0.01, \"epochs\": 16, \"episodes_per_epoch\": 40},\n",
        "    {\"hidden\": 128, \"entropy_coef\": 0.02, \"epochs\": 16, \"episodes_per_epoch\": 40},\n",
        "    {\"hidden\": 160, \"entropy_coef\": 0.005,\"epochs\": 16, \"episodes_per_epoch\": 40},\n",
        "]\n",
        "\n",
        "results = []\n",
        "for i, cfg_delta in enumerate(sweep, 1):\n",
        "    print(f\"\\n=== Sweep {i}/{len(sweep)} — {cfg_delta} ===\")\n",
        "    valH = quick_train(cfg_delta)\n",
        "    results.append((cfg_delta, valH))\n",
        "    print(f\"val energy: {valH:.2f}\")\n",
        "\n",
        "print(\"\\nSweep results:\")\n",
        "for cfg_delta, valH in results:\n",
        "    print(cfg_delta, \"→\", valH)\n"
      ],
      "metadata": {
        "colab": {
          "base_uri": "https://localhost:8080/"
        },
        "id": "N4MDKP3v1x6s",
        "outputId": "718624f2-c7b9-467a-9749-811c6022a66f"
      },
      "execution_count": 43,
      "outputs": [
        {
          "output_type": "stream",
          "name": "stdout",
          "text": [
            "\n",
            "=== Sweep 1/3 — {'hidden': 96, 'entropy_coef': 0.01, 'epochs': 16, 'episodes_per_epoch': 40} ===\n",
            "Epoch 001 | train H -1.55 | val H -3.58 | Δt 8.1s\n",
            "✅ Saved checkpoint → checkpoints/a2c_best.pt\n",
            "Epoch 002 | train H 4.97 | val H -3.58 | Δt 8.7s\n",
            "Epoch 003 | train H -4.85 | val H -3.58 | Δt 10.1s\n",
            "Epoch 004 | train H -1.98 | val H -3.58 | Δt 8.6s\n",
            "⛳ Early stop at epoch 4 (no val improvement for 3 epochs).\n",
            "✅ Loaded checkpoint from checkpoints/a2c_best.pt\n",
            "val energy: -3.58\n",
            "\n",
            "=== Sweep 2/3 — {'hidden': 128, 'entropy_coef': 0.02, 'epochs': 16, 'episodes_per_epoch': 40} ===\n",
            "Epoch 001 | train H -1.52 | val H -3.58 | Δt 8.6s\n",
            "✅ Saved checkpoint → checkpoints/a2c_best.pt\n",
            "Epoch 002 | train H 2.17 | val H -3.58 | Δt 9.3s\n",
            "Epoch 003 | train H -0.90 | val H -3.58 | Δt 9.3s\n",
            "Epoch 004 | train H 1.40 | val H -3.58 | Δt 9.3s\n",
            "⛳ Early stop at epoch 4 (no val improvement for 3 epochs).\n",
            "✅ Loaded checkpoint from checkpoints/a2c_best.pt\n",
            "val energy: -3.58\n",
            "\n",
            "=== Sweep 3/3 — {'hidden': 160, 'entropy_coef': 0.005, 'epochs': 16, 'episodes_per_epoch': 40} ===\n",
            "Epoch 001 | train H -1.05 | val H -3.58 | Δt 9.4s\n",
            "✅ Saved checkpoint → checkpoints/a2c_best.pt\n",
            "Epoch 002 | train H 5.10 | val H -3.58 | Δt 10.0s\n",
            "Epoch 003 | train H 0.85 | val H -3.58 | Δt 10.5s\n",
            "Epoch 004 | train H -3.02 | val H 4.08 | Δt 10.2s\n",
            "⛳ Early stop at epoch 4 (no val improvement for 3 epochs).\n",
            "✅ Loaded checkpoint from checkpoints/a2c_best.pt\n",
            "val energy: -3.58\n",
            "\n",
            "Sweep results:\n",
            "{'hidden': 96, 'entropy_coef': 0.01, 'epochs': 16, 'episodes_per_epoch': 40} → -3.5833333333333335\n",
            "{'hidden': 128, 'entropy_coef': 0.02, 'epochs': 16, 'episodes_per_epoch': 40} → -3.5833333333333335\n",
            "{'hidden': 160, 'entropy_coef': 0.005, 'epochs': 16, 'episodes_per_epoch': 40} → -3.5833333333333335\n"
          ]
        }
      ]
    },
    {
      "cell_type": "markdown",
      "source": [
        "Cell 27 — Save Best Model, History & CSV Summary"
      ],
      "metadata": {
        "id": "qnazoYAL1z00"
      }
    },
    {
      "cell_type": "code",
      "source": [
        "import pandas as pd\n",
        "\n",
        "# Save current best model2\n",
        "best_ckpt_path = save_ckpt(model2, CFG, name=\"a2c_best_final.pt\")\n",
        "with open(ART_DIR/\"train_history2.json\",\"w\") as f:\n",
        "    json.dump(history2, f, indent=2)\n",
        "\n",
        "# Make a small summary table from recent evals (if available)\n",
        "rows = []\n",
        "if 'res_small' in globals():\n",
        "    rows.append({\"split\":\"small_ER\", \"metric\":\"mean_H_rl\", \"value\": float(np.mean(res_small[\"H_rl\"]))})\n",
        "    rows.append({\"split\":\"small_ER\", \"metric\":\"mean_H_sa\", \"value\": float(np.mean(res_small[\"H_sa\"]))})\n",
        "    if len(res_small[\"gaps\"])>0:\n",
        "        rows.append({\"split\":\"small_ER\", \"metric\":\"mean_gap_rl_vs_ilp\", \"value\": float(np.mean(res_small[\"gaps\"]))})\n",
        "if 'res_large' in globals():\n",
        "    rows.append({\"split\":\"large_ER\", \"metric\":\"mean_H_rl\", \"value\": float(np.mean(res_large[\"H_rl\"]))})\n",
        "    rows.append({\"split\":\"large_ER\", \"metric\":\"mean_H_sa\", \"value\": float(np.mean(res_large[\"H_sa\"]))})\n",
        "\n",
        "df = pd.DataFrame(rows)\n",
        "csv_path = ART_DIR/\"summary.csv\"\n",
        "df.to_csv(csv_path, index=False)\n",
        "print(\"Saved:\", csv_path)\n",
        "display(df)\n"
      ],
      "metadata": {
        "colab": {
          "base_uri": "https://localhost:8080/",
          "height": 242
        },
        "id": "RsM14HRE115U",
        "outputId": "63eabf09-32be-441a-f197-ae114f6de3cd"
      },
      "execution_count": 44,
      "outputs": [
        {
          "output_type": "stream",
          "name": "stdout",
          "text": [
            "✅ Saved checkpoint → checkpoints/a2c_best_final.pt\n",
            "Saved: artifacts/summary.csv\n"
          ]
        },
        {
          "output_type": "display_data",
          "data": {
            "text/plain": [
              "      split              metric       value\n",
              "0  small_ER           mean_H_rl   -1.875000\n",
              "1  small_ER           mean_H_sa  -34.375000\n",
              "2  small_ER  mean_gap_rl_vs_ilp    0.944541\n",
              "3  large_ER           mean_H_rl    1.750000\n",
              "4  large_ER           mean_H_sa -185.000000"
            ],
            "text/html": [
              "\n",
              "  <div id=\"df-fb22fdd5-3960-40b5-9fa2-980b8794cd90\" class=\"colab-df-container\">\n",
              "    <div>\n",
              "<style scoped>\n",
              "    .dataframe tbody tr th:only-of-type {\n",
              "        vertical-align: middle;\n",
              "    }\n",
              "\n",
              "    .dataframe tbody tr th {\n",
              "        vertical-align: top;\n",
              "    }\n",
              "\n",
              "    .dataframe thead th {\n",
              "        text-align: right;\n",
              "    }\n",
              "</style>\n",
              "<table border=\"1\" class=\"dataframe\">\n",
              "  <thead>\n",
              "    <tr style=\"text-align: right;\">\n",
              "      <th></th>\n",
              "      <th>split</th>\n",
              "      <th>metric</th>\n",
              "      <th>value</th>\n",
              "    </tr>\n",
              "  </thead>\n",
              "  <tbody>\n",
              "    <tr>\n",
              "      <th>0</th>\n",
              "      <td>small_ER</td>\n",
              "      <td>mean_H_rl</td>\n",
              "      <td>-1.875000</td>\n",
              "    </tr>\n",
              "    <tr>\n",
              "      <th>1</th>\n",
              "      <td>small_ER</td>\n",
              "      <td>mean_H_sa</td>\n",
              "      <td>-34.375000</td>\n",
              "    </tr>\n",
              "    <tr>\n",
              "      <th>2</th>\n",
              "      <td>small_ER</td>\n",
              "      <td>mean_gap_rl_vs_ilp</td>\n",
              "      <td>0.944541</td>\n",
              "    </tr>\n",
              "    <tr>\n",
              "      <th>3</th>\n",
              "      <td>large_ER</td>\n",
              "      <td>mean_H_rl</td>\n",
              "      <td>1.750000</td>\n",
              "    </tr>\n",
              "    <tr>\n",
              "      <th>4</th>\n",
              "      <td>large_ER</td>\n",
              "      <td>mean_H_sa</td>\n",
              "      <td>-185.000000</td>\n",
              "    </tr>\n",
              "  </tbody>\n",
              "</table>\n",
              "</div>\n",
              "    <div class=\"colab-df-buttons\">\n",
              "\n",
              "  <div class=\"colab-df-container\">\n",
              "    <button class=\"colab-df-convert\" onclick=\"convertToInteractive('df-fb22fdd5-3960-40b5-9fa2-980b8794cd90')\"\n",
              "            title=\"Convert this dataframe to an interactive table.\"\n",
              "            style=\"display:none;\">\n",
              "\n",
              "  <svg xmlns=\"http://www.w3.org/2000/svg\" height=\"24px\" viewBox=\"0 -960 960 960\">\n",
              "    <path d=\"M120-120v-720h720v720H120Zm60-500h600v-160H180v160Zm220 220h160v-160H400v160Zm0 220h160v-160H400v160ZM180-400h160v-160H180v160Zm440 0h160v-160H620v160ZM180-180h160v-160H180v160Zm440 0h160v-160H620v160Z\"/>\n",
              "  </svg>\n",
              "    </button>\n",
              "\n",
              "  <style>\n",
              "    .colab-df-container {\n",
              "      display:flex;\n",
              "      gap: 12px;\n",
              "    }\n",
              "\n",
              "    .colab-df-convert {\n",
              "      background-color: #E8F0FE;\n",
              "      border: none;\n",
              "      border-radius: 50%;\n",
              "      cursor: pointer;\n",
              "      display: none;\n",
              "      fill: #1967D2;\n",
              "      height: 32px;\n",
              "      padding: 0 0 0 0;\n",
              "      width: 32px;\n",
              "    }\n",
              "\n",
              "    .colab-df-convert:hover {\n",
              "      background-color: #E2EBFA;\n",
              "      box-shadow: 0px 1px 2px rgba(60, 64, 67, 0.3), 0px 1px 3px 1px rgba(60, 64, 67, 0.15);\n",
              "      fill: #174EA6;\n",
              "    }\n",
              "\n",
              "    .colab-df-buttons div {\n",
              "      margin-bottom: 4px;\n",
              "    }\n",
              "\n",
              "    [theme=dark] .colab-df-convert {\n",
              "      background-color: #3B4455;\n",
              "      fill: #D2E3FC;\n",
              "    }\n",
              "\n",
              "    [theme=dark] .colab-df-convert:hover {\n",
              "      background-color: #434B5C;\n",
              "      box-shadow: 0px 1px 3px 1px rgba(0, 0, 0, 0.15);\n",
              "      filter: drop-shadow(0px 1px 2px rgba(0, 0, 0, 0.3));\n",
              "      fill: #FFFFFF;\n",
              "    }\n",
              "  </style>\n",
              "\n",
              "    <script>\n",
              "      const buttonEl =\n",
              "        document.querySelector('#df-fb22fdd5-3960-40b5-9fa2-980b8794cd90 button.colab-df-convert');\n",
              "      buttonEl.style.display =\n",
              "        google.colab.kernel.accessAllowed ? 'block' : 'none';\n",
              "\n",
              "      async function convertToInteractive(key) {\n",
              "        const element = document.querySelector('#df-fb22fdd5-3960-40b5-9fa2-980b8794cd90');\n",
              "        const dataTable =\n",
              "          await google.colab.kernel.invokeFunction('convertToInteractive',\n",
              "                                                    [key], {});\n",
              "        if (!dataTable) return;\n",
              "\n",
              "        const docLinkHtml = 'Like what you see? Visit the ' +\n",
              "          '<a target=\"_blank\" href=https://colab.research.google.com/notebooks/data_table.ipynb>data table notebook</a>'\n",
              "          + ' to learn more about interactive tables.';\n",
              "        element.innerHTML = '';\n",
              "        dataTable['output_type'] = 'display_data';\n",
              "        await google.colab.output.renderOutput(dataTable, element);\n",
              "        const docLink = document.createElement('div');\n",
              "        docLink.innerHTML = docLinkHtml;\n",
              "        element.appendChild(docLink);\n",
              "      }\n",
              "    </script>\n",
              "  </div>\n",
              "\n",
              "\n",
              "    <div id=\"df-82848815-324a-4835-bd9b-e487b27df7bd\">\n",
              "      <button class=\"colab-df-quickchart\" onclick=\"quickchart('df-82848815-324a-4835-bd9b-e487b27df7bd')\"\n",
              "                title=\"Suggest charts\"\n",
              "                style=\"display:none;\">\n",
              "\n",
              "<svg xmlns=\"http://www.w3.org/2000/svg\" height=\"24px\"viewBox=\"0 0 24 24\"\n",
              "     width=\"24px\">\n",
              "    <g>\n",
              "        <path d=\"M19 3H5c-1.1 0-2 .9-2 2v14c0 1.1.9 2 2 2h14c1.1 0 2-.9 2-2V5c0-1.1-.9-2-2-2zM9 17H7v-7h2v7zm4 0h-2V7h2v10zm4 0h-2v-4h2v4z\"/>\n",
              "    </g>\n",
              "</svg>\n",
              "      </button>\n",
              "\n",
              "<style>\n",
              "  .colab-df-quickchart {\n",
              "      --bg-color: #E8F0FE;\n",
              "      --fill-color: #1967D2;\n",
              "      --hover-bg-color: #E2EBFA;\n",
              "      --hover-fill-color: #174EA6;\n",
              "      --disabled-fill-color: #AAA;\n",
              "      --disabled-bg-color: #DDD;\n",
              "  }\n",
              "\n",
              "  [theme=dark] .colab-df-quickchart {\n",
              "      --bg-color: #3B4455;\n",
              "      --fill-color: #D2E3FC;\n",
              "      --hover-bg-color: #434B5C;\n",
              "      --hover-fill-color: #FFFFFF;\n",
              "      --disabled-bg-color: #3B4455;\n",
              "      --disabled-fill-color: #666;\n",
              "  }\n",
              "\n",
              "  .colab-df-quickchart {\n",
              "    background-color: var(--bg-color);\n",
              "    border: none;\n",
              "    border-radius: 50%;\n",
              "    cursor: pointer;\n",
              "    display: none;\n",
              "    fill: var(--fill-color);\n",
              "    height: 32px;\n",
              "    padding: 0;\n",
              "    width: 32px;\n",
              "  }\n",
              "\n",
              "  .colab-df-quickchart:hover {\n",
              "    background-color: var(--hover-bg-color);\n",
              "    box-shadow: 0 1px 2px rgba(60, 64, 67, 0.3), 0 1px 3px 1px rgba(60, 64, 67, 0.15);\n",
              "    fill: var(--button-hover-fill-color);\n",
              "  }\n",
              "\n",
              "  .colab-df-quickchart-complete:disabled,\n",
              "  .colab-df-quickchart-complete:disabled:hover {\n",
              "    background-color: var(--disabled-bg-color);\n",
              "    fill: var(--disabled-fill-color);\n",
              "    box-shadow: none;\n",
              "  }\n",
              "\n",
              "  .colab-df-spinner {\n",
              "    border: 2px solid var(--fill-color);\n",
              "    border-color: transparent;\n",
              "    border-bottom-color: var(--fill-color);\n",
              "    animation:\n",
              "      spin 1s steps(1) infinite;\n",
              "  }\n",
              "\n",
              "  @keyframes spin {\n",
              "    0% {\n",
              "      border-color: transparent;\n",
              "      border-bottom-color: var(--fill-color);\n",
              "      border-left-color: var(--fill-color);\n",
              "    }\n",
              "    20% {\n",
              "      border-color: transparent;\n",
              "      border-left-color: var(--fill-color);\n",
              "      border-top-color: var(--fill-color);\n",
              "    }\n",
              "    30% {\n",
              "      border-color: transparent;\n",
              "      border-left-color: var(--fill-color);\n",
              "      border-top-color: var(--fill-color);\n",
              "      border-right-color: var(--fill-color);\n",
              "    }\n",
              "    40% {\n",
              "      border-color: transparent;\n",
              "      border-right-color: var(--fill-color);\n",
              "      border-top-color: var(--fill-color);\n",
              "    }\n",
              "    60% {\n",
              "      border-color: transparent;\n",
              "      border-right-color: var(--fill-color);\n",
              "    }\n",
              "    80% {\n",
              "      border-color: transparent;\n",
              "      border-right-color: var(--fill-color);\n",
              "      border-bottom-color: var(--fill-color);\n",
              "    }\n",
              "    90% {\n",
              "      border-color: transparent;\n",
              "      border-bottom-color: var(--fill-color);\n",
              "    }\n",
              "  }\n",
              "</style>\n",
              "\n",
              "      <script>\n",
              "        async function quickchart(key) {\n",
              "          const quickchartButtonEl =\n",
              "            document.querySelector('#' + key + ' button');\n",
              "          quickchartButtonEl.disabled = true;  // To prevent multiple clicks.\n",
              "          quickchartButtonEl.classList.add('colab-df-spinner');\n",
              "          try {\n",
              "            const charts = await google.colab.kernel.invokeFunction(\n",
              "                'suggestCharts', [key], {});\n",
              "          } catch (error) {\n",
              "            console.error('Error during call to suggestCharts:', error);\n",
              "          }\n",
              "          quickchartButtonEl.classList.remove('colab-df-spinner');\n",
              "          quickchartButtonEl.classList.add('colab-df-quickchart-complete');\n",
              "        }\n",
              "        (() => {\n",
              "          let quickchartButtonEl =\n",
              "            document.querySelector('#df-82848815-324a-4835-bd9b-e487b27df7bd button');\n",
              "          quickchartButtonEl.style.display =\n",
              "            google.colab.kernel.accessAllowed ? 'block' : 'none';\n",
              "        })();\n",
              "      </script>\n",
              "    </div>\n",
              "\n",
              "  <div id=\"id_69ab9016-3fbf-41dd-9824-de8f2e20b8ec\">\n",
              "    <style>\n",
              "      .colab-df-generate {\n",
              "        background-color: #E8F0FE;\n",
              "        border: none;\n",
              "        border-radius: 50%;\n",
              "        cursor: pointer;\n",
              "        display: none;\n",
              "        fill: #1967D2;\n",
              "        height: 32px;\n",
              "        padding: 0 0 0 0;\n",
              "        width: 32px;\n",
              "      }\n",
              "\n",
              "      .colab-df-generate:hover {\n",
              "        background-color: #E2EBFA;\n",
              "        box-shadow: 0px 1px 2px rgba(60, 64, 67, 0.3), 0px 1px 3px 1px rgba(60, 64, 67, 0.15);\n",
              "        fill: #174EA6;\n",
              "      }\n",
              "\n",
              "      [theme=dark] .colab-df-generate {\n",
              "        background-color: #3B4455;\n",
              "        fill: #D2E3FC;\n",
              "      }\n",
              "\n",
              "      [theme=dark] .colab-df-generate:hover {\n",
              "        background-color: #434B5C;\n",
              "        box-shadow: 0px 1px 3px 1px rgba(0, 0, 0, 0.15);\n",
              "        filter: drop-shadow(0px 1px 2px rgba(0, 0, 0, 0.3));\n",
              "        fill: #FFFFFF;\n",
              "      }\n",
              "    </style>\n",
              "    <button class=\"colab-df-generate\" onclick=\"generateWithVariable('df')\"\n",
              "            title=\"Generate code using this dataframe.\"\n",
              "            style=\"display:none;\">\n",
              "\n",
              "  <svg xmlns=\"http://www.w3.org/2000/svg\" height=\"24px\"viewBox=\"0 0 24 24\"\n",
              "       width=\"24px\">\n",
              "    <path d=\"M7,19H8.4L18.45,9,17,7.55,7,17.6ZM5,21V16.75L18.45,3.32a2,2,0,0,1,2.83,0l1.4,1.43a1.91,1.91,0,0,1,.58,1.4,1.91,1.91,0,0,1-.58,1.4L9.25,21ZM18.45,9,17,7.55Zm-12,3A5.31,5.31,0,0,0,4.9,8.1,5.31,5.31,0,0,0,1,6.5,5.31,5.31,0,0,0,4.9,4.9,5.31,5.31,0,0,0,6.5,1,5.31,5.31,0,0,0,8.1,4.9,5.31,5.31,0,0,0,12,6.5,5.46,5.46,0,0,0,6.5,12Z\"/>\n",
              "  </svg>\n",
              "    </button>\n",
              "    <script>\n",
              "      (() => {\n",
              "      const buttonEl =\n",
              "        document.querySelector('#id_69ab9016-3fbf-41dd-9824-de8f2e20b8ec button.colab-df-generate');\n",
              "      buttonEl.style.display =\n",
              "        google.colab.kernel.accessAllowed ? 'block' : 'none';\n",
              "\n",
              "      buttonEl.onclick = () => {\n",
              "        google.colab.notebook.generateWithVariable('df');\n",
              "      }\n",
              "      })();\n",
              "    </script>\n",
              "  </div>\n",
              "\n",
              "    </div>\n",
              "  </div>\n"
            ],
            "application/vnd.google.colaboratory.intrinsic+json": {
              "type": "dataframe",
              "variable_name": "df",
              "summary": "{\n  \"name\": \"df\",\n  \"rows\": 5,\n  \"fields\": [\n    {\n      \"column\": \"split\",\n      \"properties\": {\n        \"dtype\": \"category\",\n        \"num_unique_values\": 2,\n        \"samples\": [\n          \"large_ER\",\n          \"small_ER\"\n        ],\n        \"semantic_type\": \"\",\n        \"description\": \"\"\n      }\n    },\n    {\n      \"column\": \"metric\",\n      \"properties\": {\n        \"dtype\": \"string\",\n        \"num_unique_values\": 3,\n        \"samples\": [\n          \"mean_H_rl\",\n          \"mean_H_sa\"\n        ],\n        \"semantic_type\": \"\",\n        \"description\": \"\"\n      }\n    },\n    {\n      \"column\": \"value\",\n      \"properties\": {\n        \"dtype\": \"number\",\n        \"std\": 80.40648787432083,\n        \"min\": -185.0,\n        \"max\": 1.75,\n        \"num_unique_values\": 5,\n        \"samples\": [\n          -34.375,\n          -185.0\n        ],\n        \"semantic_type\": \"\",\n        \"description\": \"\"\n      }\n    }\n  ]\n}"
            }
          },
          "metadata": {}
        }
      ]
    },
    {
      "cell_type": "markdown",
      "source": [
        "Cell 28 — (Opsional) QAOA p=1 Baseline untuk Max‑Cut (kecil)"
      ],
      "metadata": {
        "id": "Qr-v4Uzn14Gt"
      }
    },
    {
      "cell_type": "code",
      "source": [
        "# Ini opsional & mungkin lambat di Colab. Hanya untuk n kecil (≤ 16).\n",
        "# Akan dijalankan hanya jika qiskit tersedia.\n",
        "try:\n",
        "    from qiskit_algorithms import QAOA\n",
        "    from qiskit_algorithms.optimizers import COBYLA\n",
        "    from qiskit.quantum_info import Pauli\n",
        "    from qiskit import QuantumCircuit\n",
        "    from qiskit_optimization import QuadraticProgram\n",
        "    from qiskit_optimization.algorithms import MinimumEigenOptimizer\n",
        "    from qiskit_optimization.applications.ising import max_cut\n",
        "    from qiskit.primitives import Sampler\n",
        "    HAS_QISKIT = True\n",
        "except Exception as e:\n",
        "    HAS_QISKIT = False\n",
        "    print(\"Qiskit tidak tersedia, skip QAOA.\", e)\n",
        "\n",
        "def maxcut_qaoa_energy(edge_list, n, p=1, maxiter=50):\n",
        "    # weights w_ij = -J\n",
        "    w = np.zeros((n,n))\n",
        "    for (u,v,J) in edge_list:\n",
        "        w[u,v] = w[v,u] = -J\n",
        "    # Qiskit MaxCut setup\n",
        "    qp = max_cut.get_quadratic_program(w)\n",
        "    qaoa = QAOA(sampler=Sampler(), optimizer=COBYLA(maxiter=maxiter), reps=p, initial_point=[0.1]*(2*p))\n",
        "    meo = MinimumEigenOptimizer(qaoa)\n",
        "    result = meo.solve(qp)\n",
        "    # convert cut solution to spins; energy back to Ising H\n",
        "    x = np.array(result.x.round()).astype(int)  # 0/1 in two sets\n",
        "    spins = np.where(x==0, 1, -1)              # map set A→+1, B→-1\n",
        "    H = energy_from_spins(edge_list, spins)\n",
        "    return H, spins\n",
        "\n",
        "if HAS_QISKIT:\n",
        "    G_q = make_er_graph(n=12, p=0.35, seed=123)\n",
        "    edges_q = undirected_edges_with_J(G_q)\n",
        "    H_qaoa, _ = maxcut_qaoa_energy(edges_q, n=G_q.number_of_nodes(), p=1, maxiter=80)\n",
        "    # Compare\n",
        "    d_q = to_pyg_data(G_q)\n",
        "    H_rl, _ = eval_policy_on_graph(model2, d_q)\n",
        "    _, H_sa = simulated_annealing(edges_q, n=d_q.num_nodes, steps=3000, seed=777)\n",
        "    print(f\"QAOA p=1: {H_qaoa:.1f} | RL: {H_rl:.1f} | SA: {H_sa:.1f}\")\n",
        "else:\n",
        "    print(\"Lewati QAOA (opsional). Install qiskit jika ingin mencoba.)\")\n"
      ],
      "metadata": {
        "colab": {
          "base_uri": "https://localhost:8080/"
        },
        "id": "lm0lR7T917Gc",
        "outputId": "10ddcbce-2387-49f6-ab76-fc514decc2ca"
      },
      "execution_count": 45,
      "outputs": [
        {
          "output_type": "stream",
          "name": "stdout",
          "text": [
            "Qiskit tidak tersedia, skip QAOA. No module named 'qiskit_algorithms'\n",
            "Lewati QAOA (opsional). Install qiskit jika ingin mencoba.)\n"
          ]
        }
      ]
    },
    {
      "cell_type": "markdown",
      "source": [
        "Cell 29 — Laporan Otomatis Singkat (untuk mini‑paper/poster)"
      ],
      "metadata": {
        "id": "fcXvgaqA18xf"
      }
    },
    {
      "cell_type": "code",
      "source": [
        "def quick_report():\n",
        "    lines = []\n",
        "    lines.append(\"# Spin‑Glass RL + GNN — Quick Report\\n\")\n",
        "    if 'res_small' in globals():\n",
        "        lines.append(f\"- Small ER mean H_rl: {np.mean(res_small['H_rl']):.2f}\")\n",
        "        lines.append(f\"- Small ER mean H_sa: {np.mean(res_small['H_sa']):.2f}\")\n",
        "        if len(res_small[\"gaps\"])>0:\n",
        "            lines.append(f\"- RL mean relative gap vs ILP: {np.mean(res_small['gaps']):.3f}\")\n",
        "    if 'res_large' in globals():\n",
        "        lines.append(f\"- Large ER mean H_rl: {np.mean(res_large['H_rl']):.2f}\")\n",
        "        lines.append(f\"- Large ER mean H_sa: {np.mean(res_large['H_sa']):.2f}\")\n",
        "    if 'res_grid' in globals():\n",
        "        lines.append(f\"- Grid (RL→refine) median: {np.median(res_grid['H_ref']):.2f}\")\n",
        "    if 'res_reg3' in globals():\n",
        "        lines.append(f\"- 3-regular (RL→refine) median: {np.median(res_reg3['H_ref']):.2f}\")\n",
        "    if 'xs' in globals():\n",
        "        lines.append(f\"- Scaling sizes tested: {xs}\")\n",
        "    text = \"\\n\".join(lines)\n",
        "    with open(ART_DIR/\"quick_report.md\",\"w\") as f:\n",
        "        f.write(text)\n",
        "    print(text)\n",
        "    return text\n",
        "\n",
        "_ = quick_report()\n",
        "print(\"\\n✅ Report saved at:\", ART_DIR/\"quick_report.md\")\n"
      ],
      "metadata": {
        "colab": {
          "base_uri": "https://localhost:8080/"
        },
        "id": "kj5D_Y6I1_FV",
        "outputId": "fd838eaa-944d-4ab5-b054-35cc154fbeaf"
      },
      "execution_count": 46,
      "outputs": [
        {
          "output_type": "stream",
          "name": "stdout",
          "text": [
            "# Spin‑Glass RL + GNN — Quick Report\n",
            "\n",
            "- Small ER mean H_rl: -1.88\n",
            "- Small ER mean H_sa: -34.38\n",
            "- RL mean relative gap vs ILP: 0.945\n",
            "- Large ER mean H_rl: 1.75\n",
            "- Large ER mean H_sa: -185.00\n",
            "- Grid (RL→refine) median: -66.00\n",
            "- 3-regular (RL→refine) median: -71.00\n",
            "- Scaling sizes tested: [20, 40, 60, 80, 100, 120]\n",
            "\n",
            "✅ Report saved at: artifacts/quick_report.md\n"
          ]
        }
      ]
    },
    {
      "cell_type": "markdown",
      "source": [
        "Cell 30 — (Bonus) Export Figures untuk Poster"
      ],
      "metadata": {
        "id": "mID1cwpr2BWX"
      }
    },
    {
      "cell_type": "code",
      "source": [
        "FIG_DIR = Path(\"figs\"); FIG_DIR.mkdir(exist_ok=True)\n",
        "\n",
        "def save_current_fig(name):\n",
        "    path = FIG_DIR / name\n",
        "    plt.savefig(path, bbox_inches=\"tight\", dpi=160)\n",
        "    print(\"Saved fig:\", path)\n",
        "\n",
        "# Contoh simpan ulang beberapa plot kunci:\n",
        "plt.figure(figsize=(6,4))\n",
        "plt.plot(history2[\"epoch\"], history2[\"mean_energy\"], label=\"train H\")\n",
        "plt.plot(history2[\"epoch\"], history2[\"val_energy\"], label=\"val H\")\n",
        "plt.xlabel(\"epoch\"); plt.ylabel(\"energy (↓)\"); plt.legend(); plt.title(\"Energy vs Epoch\")\n",
        "save_current_fig(\"curve_energy.png\"); plt.close()\n",
        "\n",
        "plt.figure(figsize=(6,4))\n",
        "plt.plot(xs, yrl, 'o-', label=\"RL\")\n",
        "plt.plot(xs, yrf, 'o-', label=\"RL+refine\")\n",
        "plt.plot(xs, ysa, 'o-', label=\"SA\")\n",
        "plt.xlabel(\"n\"); plt.ylabel(\"Energy per edge (↓)\"); plt.legend()\n",
        "plt.title(\"Scaling — ER graphs\")\n",
        "save_current_fig(\"scaling_er.png\"); plt.close()\n",
        "\n",
        "print(\"✅ Poster-ready figures saved in figs/\")\n"
      ],
      "metadata": {
        "colab": {
          "base_uri": "https://localhost:8080/"
        },
        "id": "DBP0MNT-2AZg",
        "outputId": "eeb14fac-0030-4986-a055-7f617f0bec5e"
      },
      "execution_count": 47,
      "outputs": [
        {
          "output_type": "stream",
          "name": "stdout",
          "text": [
            "Saved fig: figs/curve_energy.png\n",
            "Saved fig: figs/scaling_er.png\n",
            "✅ Poster-ready figures saved in figs/\n"
          ]
        }
      ]
    },
    {
      "cell_type": "markdown",
      "source": [
        "# Summary\n",
        "---\n",
        "\n",
        "### Cell 1 — Setup & Installs\n",
        "\n",
        "* **Isi:** Install `numpy/scipy/matplotlib/seaborn/networkx/tqdm/einops/ortools` + PyTorch Geometric (PyG) via wheels.\n",
        "* **Tujuan:** Menyediakan semua dependensi untuk simulasi graf, baseline (ILP/SA), dan model GNN.\n",
        "\n",
        "### Cell 2 — Imports, Config, Reproducibility\n",
        "\n",
        "* **Isi:** Import library, set seed, definisi `DEVICE`, dan kamus konfigurasi `CFG`.\n",
        "* **Tujuan:** Menjamin eksperimen **reproducible** dan parameter terpusat (ukuran graf, epoch, lr, dsb).\n",
        "\n",
        "### Cell 3 — Graph Generators (ER, Grid, 3‑Regular) + Couplings\n",
        "\n",
        "* **Isi:** Fungsi pembuat graf **Erdős–Rényi**, **grid** L×L, dan **k‑regular**, dengan **coupling spin-glass** $J∈{−1,+1}$.\n",
        "* **Tujuan:** Membangun instansi masalah (graf + couplings) yang beragam untuk training & evaluasi.\n",
        "\n",
        "### Cell 4 — PyG Data & Energi\n",
        "\n",
        "* **Isi:** Konversi graf → `torch_geometric.data.Data` (fitur node + `edge_weight=J`), fungsi energi dan Δenergi.\n",
        "* **Tujuan:** Representasi data yang kompatibel dengan **GNN** dan fungsi objektif fisika (Hamiltonian Ising).\n",
        "\n",
        "### Cell 5 — EDA Topologi & Couplings\n",
        "\n",
        "* **Isi:** Plot histogram derajat, distribusi J, dan visualisasi topologi.\n",
        "* **Tujuan:** **Eksplorasi data** untuk memahami karakter graf yang akan dipakai model.\n",
        "\n",
        "### Cell 6 — Baseline: Simulated Annealing (SA)\n",
        "\n",
        "* **Isi:** Implementasi SA dengan pendinginan geometrik dan evaluasi cepat.\n",
        "* **Tujuan:** Baseline **heuristik** yang kuat untuk dibandingkan dengan RL+GNN.\n",
        "\n",
        "### Cell 7 — Baseline: Exact ILP (Max‑Cut Mapping)\n",
        "\n",
        "* **Isi:** Formulasi **CP‑SAT** OR‑Tools untuk Max‑Cut (mapping dari energi spin-glass), kembalikan energi optimal.\n",
        "* **Tujuan:** Pembanding **optimal** (untuk graf kecil) agar bisa mengukur **gap** RL terhadap optimum.\n",
        "\n",
        "### Cell 8 — RL Environment (Sequential Assignment)\n",
        "\n",
        "* **Isi:** Environment konstruksi spin: assign spin per node, **reward shaping** $r_t = −ΔH$.\n",
        "* **Tujuan:** Menjadikan ground-state search sebagai **episodic RL** dengan reward lokal yang stabil.\n",
        "\n",
        "### Cell 9 — Policy‑Value GNN (A2C‑style)\n",
        "\n",
        "* **Isi:** GCN backbone dengan `edge_weight=J`, **policy head** (logits untuk −1/+1) dan **value head** (V(s)).\n",
        "* **Tujuan:** Arsitektur **actor‑critic** yang memahami struktur graf & bobot couplings.\n",
        "\n",
        "### Cell 10 — Instance Generator & Permutation Augmentation\n",
        "\n",
        "* **Isi:** Utilitas membuat instansi graf sesuai tipe + augmentasi **permute nodes**.\n",
        "* **Tujuan:** **Generalization** dan **invariance** terhadap pelabelan node (tidak overfit ke index).\n",
        "\n",
        "### Cell 11 — A2C Training Loop (Actor‑Critic)\n",
        "\n",
        "* **Isi:** Pelatihan A2C sederhana (policy loss + value loss + entropy reg + grad clip), **curriculum sizes**.\n",
        "* **Tujuan:** Melatih kebijakan GNN untuk **meminimalkan energi** secara stabil dan tidak collapse.\n",
        "\n",
        "### Cell 12 — Training Curves\n",
        "\n",
        "* **Isi:** Plot **mean energy** & **mean return** per epoch.\n",
        "* **Tujuan:** Memantau kemajuan training dan mendeteksi stagnasi/overfitting.\n",
        "\n",
        "### Cell 13 — Greedy Inference (RL Policy)\n",
        "\n",
        "* **Isi:** Evaluasi kebijakan dengan aksi **greedy**; bandingkan dengan SA pada satu instansi.\n",
        "* **Tujuan:** Lihat kualitas kebijakan RL secara deterministik saat inference.\n",
        "\n",
        "### Cell 14 — Batch Evaluation (+ILP untuk kecil)\n",
        "\n",
        "* **Isi:** Evaluasi batch: **RL vs SA**; untuk graf kecil, tambahkan **ILP** dan hitung **relative gap**.\n",
        "* **Tujuan:** Menilai performa rata‑rata dan **seberapa dekat RL ke optimum**.\n",
        "\n",
        "### Cell 15 — Visualisasi Hasil Evaluasi\n",
        "\n",
        "* **Isi:** Boxplot **RL vs SA** (small & large), histogram **gap RL–ILP**.\n",
        "* **Tujuan:** **Analisis komparatif** yang mudah disampaikan di laporan/poster.\n",
        "\n",
        "### Cell 16 — Save Artifacts\n",
        "\n",
        "* **Isi:** Simpan `state_dict` model, `train_history.json`, dan statistik evaluasi (`.npz`).\n",
        "* **Tujuan:** **Reproducibility** dan kemudahan publikasi ke repo/portofolio.\n",
        "\n",
        "### Cell 17 — (Optional) Ganti Backbone ke GIN\n",
        "\n",
        "* **Isi:** Implementasi **PolicyValueGIN** (lebih ekspresif dari GCN).\n",
        "* **Tujuan:** **Ablasi arsitektur** untuk melihat pengaruh kapasitas GNN.\n",
        "\n",
        "### Cell 18 — Notes & Next Steps (Markdown)\n",
        "\n",
        "* **Isi:** Daftar ide peningkatan: A2C penuh, curriculum/topologi campur, QAOA bridge, dsb.\n",
        "* **Tujuan:** Peta **riset lanjutan** agar proyek tampak berkembang dan visioner.\n",
        "\n",
        "### Cell 19 — Checkpointing & Utils\n",
        "\n",
        "* **Isi:** Kelas `Timer`, fungsi `save_ckpt`/`load_ckpt`, direktori `checkpoints/` & `artifacts/`.\n",
        "* **Tujuan:** **Manajemen eksperimen** (resume, simpan best model).\n",
        "\n",
        "### Cell 20 — Validasi Set & Early‑Stopping\n",
        "\n",
        "* **Isi:** `VALSET`, fungsi `mean_val_energy`, dan **training A2C dengan early‑stopping**.\n",
        "* **Tujuan:** Mencegah **overfitting**, memilih model terbaik berdasar **val energy**.\n",
        "\n",
        "### Cell 21 — Plot Loss Terms & Val Energy\n",
        "\n",
        "* **Isi:** Kurva **policy/value/entropy** dan **train vs val energy**.\n",
        "* **Tujuan:** Diagnostik **stabilitas pelatihan** dan trade‑off regularisasi.\n",
        "\n",
        "### Cell 22 — Local Refinement (Zero‑T Hill‑Climb)\n",
        "\n",
        "* **Isi:** Refinement **greedy 1‑opt** pada output RL.\n",
        "* **Tujuan:** **Post‑processing** murah yang sering memberi penurunan energi ekstra.\n",
        "\n",
        "### Cell 23 — Cross‑Topology Generalization\n",
        "\n",
        "* **Isi:** Evaluasi **Grid** & **3‑regular** (RL, RL+refine, SA) + boxplot.\n",
        "* **Tujuan:** Uji **transfer** antar topologi (indikator robust/general).\n",
        "\n",
        "### Cell 24 — Size Scaling Study\n",
        "\n",
        "* **Isi:** Kurva **energy per edge vs n** untuk RL, RL+refine, SA.\n",
        "* **Tujuan:** Analisis **skaling** performa seiring ukuran graf membesar.\n",
        "\n",
        "### Cell 25 — Ablation Tests\n",
        "\n",
        "* **Isi:** Evaluasi tanpa bobot $J$ atau tanpa fitur derajat.\n",
        "* **Tujuan:** Menilai **komponen penting** pada representasi (apa yang benar‑benar membantu).\n",
        "\n",
        "### Cell 26 — Mini Hyper‑Parameter Sweep\n",
        "\n",
        "* **Isi:** Sweep kecil (hidden size, entropy coef) + early‑stopping per konfigurasi.\n",
        "* **Tujuan:** **Tuning ringan** yang terstruktur untuk peningkatan performa.\n",
        "\n",
        "### Cell 27 — Save Best Model & CSV Summary\n",
        "\n",
        "* **Isi:** Simpan **checkpoint final**, `train_history2.json`, dan **ringkasan CSV** metrik inti.\n",
        "* **Tujuan:** Siap dipakai untuk **README/poster** dan perbandingan antar run.\n",
        "\n",
        "### Cell 28 — (Opsional) QAOA Baseline (p=1)\n",
        "\n",
        "* **Isi:** Jika `qiskit` tersedia, hitung **QAOA p=1** untuk graf kecil; bandingkan dengan RL/SA.\n",
        "* **Tujuan:** **Jembatan ke quantum algorithms**, relevan dengan call (combinatorial + quantum).\n",
        "\n",
        "### Cell 29 — Quick Report (Markdown)\n",
        "\n",
        "* **Isi:** Generate laporan singkat otomatis dari hasil evaluasi.\n",
        "* **Tujuan:** Memudahkan **penulisan mini‑paper/poster** dengan angka yang konsisten.\n",
        "\n",
        "### Cell 30 — Export Figures (Poster‑Ready)\n",
        "\n",
        "* **Isi:** Simpan ulang figur kunci (kurva energi, scaling) ke folder `figs/`.\n",
        "* **Tujuan:** **Siap presentasi** (paper/poster) tanpa perlu re‑plot manual.\n",
        "\n",
        "---\n",
        "\n",
        "## Gambaran besar (tujuan proyek)\n",
        "\n",
        "* **Formulasi fisika → optimisasi:** Menyelesaikan ground state spin glass (Hamiltonian Ising) sebagai problem **Max‑Cut**.\n",
        "* **Metode ML yang fisika-aware:** **GNN + RL (A2C)** memanfaatkan struktur graf dan couplings $J$.\n",
        "* **Rigor eksperimen:** Baseline **SA**, pembanding **ILP (optimal)**, **refinement lokal**, dan **uji generalisasi** (topologi, ukuran).\n",
        "* **Kesiapan portofolio:** Artifacts, checkpoint, CSV, **report** dan **figures** → mudah dipaketkan ke **GitHub** dan **poster**.\n"
      ],
      "metadata": {
        "id": "rP5Brhx34FcN"
      }
    },
    {
      "cell_type": "markdown",
      "source": [
        "## ( optional )"
      ],
      "metadata": {
        "id": "LmPGzp9Rhjk3"
      }
    },
    {
      "cell_type": "markdown",
      "source": [
        "Cell A — Konfigurasi suite eksperimen"
      ],
      "metadata": {
        "id": "AuaI5yBxjNeY"
      }
    },
    {
      "cell_type": "code",
      "source": [
        "# === Cell A: Konfigurasi Suite Eksperimen ===\n",
        "EXP = {\n",
        "    \"generalization\": {\n",
        "        \"grid\":  {\"graph_type\": \"grid\", \"n\": 64, \"count\": 10},\n",
        "        \"reg3\":  {\"graph_type\": \"reg3\", \"n\": 66, \"count\": 10},\n",
        "        \"er\":    {\"graph_type\": \"er\",   \"n\": 80, \"count\": 10, \"p\": 0.15},  # sebagai pembanding\n",
        "    },\n",
        "    \"scaling\": {\n",
        "        \"sizes\": list(range(20, 141, 20)),\n",
        "        \"p\": 0.20,\n",
        "        \"trials\": 5,\n",
        "        \"graph_type\": \"er\"\n",
        "    },\n",
        "    \"ablations\": {\n",
        "        \"n\": 24, \"p\": 0.25, \"count\": 8\n",
        "    },\n",
        "    \"ilp_small\": {\n",
        "        \"n\": 22, \"p\": 0.25, \"count\": 8, \"time_limit_s\": 10\n",
        "    }\n",
        "}\n",
        "\n",
        "# Pilih model yang mau dipakai untuk evaluasi:\n",
        "EVAL_MODEL = model2 if 'model2' in globals() else model\n",
        "print(\"Using model:\", \"model2\" if 'model2' in globals() else \"model\")\n"
      ],
      "metadata": {
        "colab": {
          "base_uri": "https://localhost:8080/"
        },
        "id": "5cm1N9GKjN9q",
        "outputId": "defb64f6-a54b-4898-ec1b-e77a9da011a1"
      },
      "execution_count": 48,
      "outputs": [
        {
          "output_type": "stream",
          "name": "stdout",
          "text": [
            "Using model: model2\n"
          ]
        }
      ]
    },
    {
      "cell_type": "markdown",
      "source": [
        "Cell B — Jalankan semua eksperimen + simpan artefak"
      ],
      "metadata": {
        "id": "kMF10p0SjVeo"
      }
    },
    {
      "cell_type": "code",
      "source": [
        "# === Cell B: Run Generalization, Scaling, Ablations, ILP/SA ===\n",
        "import os, json, numpy as np\n",
        "from pathlib import Path\n",
        "ART_DIR = Path(\"artifacts\"); ART_DIR.mkdir(exist_ok=True)\n",
        "FIG_DIR = Path(\"figs\");      FIG_DIR.mkdir(exist_ok=True)\n",
        "\n",
        "# 1) Generalization: ER → grid & 3-regular (RL, RL+refine, SA)\n",
        "gen_results = {}\n",
        "for name, cfg in EXP[\"generalization\"].items():\n",
        "    gt = cfg[\"graph_type\"]; n = cfg[\"n\"]; c = cfg[\"count\"]; p = cfg.get(\"p\", 0.0)\n",
        "    out = eval_topology(EVAL_MODEL, gt, n=n, count=c, p=p, seed=123)\n",
        "    gen_results[name] = out\n",
        "\n",
        "# 2) Scaling study: energy per edge vs n\n",
        "sc = EXP[\"scaling\"]\n",
        "xs, yrl, yrf, ysa = scaling_curve(EVAL_MODEL, sc[\"sizes\"], p=sc[\"p\"], trials=sc[\"trials\"], graph_type=sc[\"graph_type\"], refine=True, seed=321)\n",
        "scaling_out = {\"sizes\": xs, \"rl\": yrl, \"rl_refine\": yrf, \"sa\": ysa}\n",
        "\n",
        "# 3) Ablations: No-J / No-degree\n",
        "abl = EXP[\"ablations\"]\n",
        "rng = np.random.RandomState(999)\n",
        "H_base, H_noJ, H_noDeg = [], [], []\n",
        "for _ in range(abl[\"count\"]):\n",
        "    data = generate_instance(\"er\", n=abl[\"n\"], p=abl[\"p\"], seed=int(rng.randint(1e9)))\n",
        "    h0, _ = eval_policy_on_graph(EVAL_MODEL, data); H_base.append(h0)\n",
        "    h1, _ = eval_ablation(EVAL_MODEL, data, drop_degree=False, ignore_J=True); H_noJ.append(h1)\n",
        "    h2, _ = eval_ablation(EVAL_MODEL, data, drop_degree=True,  ignore_J=False); H_noDeg.append(h2)\n",
        "abl_out = {\"base\": H_base, \"noJ\": H_noJ, \"noDeg\": H_noDeg}\n",
        "\n",
        "# 4) SA & ILP (small graphs): hitung gap RL vs ILP\n",
        "ilp_cfg = EXP[\"ilp_small\"]\n",
        "res_small = batch_evaluate(EVAL_MODEL, n=ilp_cfg[\"n\"], p=ilp_cfg[\"p\"], count=ilp_cfg[\"count\"],\n",
        "                           do_ilp=True, ilp_time_s=ilp_cfg[\"time_limit_s\"], seed=11, graph_type=\"er\")\n",
        "\n",
        "# 5) SA (large ER) untuk pembanding cepat (opsional)\n",
        "res_large = batch_evaluate(EVAL_MODEL, n=CFG[\"eval_large_n\"], p=CFG[\"eval_large_p\"], count=8,\n",
        "                           do_ilp=False, seed=22, graph_type=\"er\")\n",
        "\n",
        "# Simpan semua artefak ke JSON/NPZ\n",
        "np.savez(ART_DIR/\"generalization.npz\",\n",
        "         grid_rl=np.array(gen_results[\"grid\"][\"H_rl\"]),\n",
        "         grid_ref=np.array(gen_results[\"grid\"][\"H_ref\"]),\n",
        "         grid_sa=np.array(gen_results[\"grid\"][\"H_sa\"]),\n",
        "         reg3_rl=np.array(gen_results[\"reg3\"][\"H_rl\"]),\n",
        "         reg3_ref=np.array(gen_results[\"reg3\"][\"H_ref\"]),\n",
        "         reg3_sa=np.array(gen_results[\"reg3\"][\"H_sa\"]))\n",
        "with open(ART_DIR/\"scaling.json\",\"w\") as f: json.dump(scaling_out, f, indent=2)\n",
        "np.savez(ART_DIR/\"ablations.npz\",\n",
        "         base=np.array(abl_out[\"base\"]), noJ=np.array(abl_out[\"noJ\"]), noDeg=np.array(abl_out[\"noDeg\"]))\n",
        "np.savez(ART_DIR/\"ilp_small.npz\",\n",
        "         H_rl=np.array(res_small[\"H_rl\"]), H_sa=np.array(res_small[\"H_sa\"]),\n",
        "         H_ilp=np.array(res_small[\"H_ilp\"]), gaps=np.array(res_small[\"gaps\"]))\n",
        "np.savez(ART_DIR/\"er_large.npz\",\n",
        "         H_rl=np.array(res_large[\"H_rl\"]), H_sa=np.array(res_large[\"H_sa\"]))\n",
        "print(\"✅ Saved: generalization.npz, scaling.json, ablations.npz, ilp_small.npz, er_large.npz\")\n"
      ],
      "metadata": {
        "colab": {
          "base_uri": "https://localhost:8080/"
        },
        "id": "Rc5DyeGvjWDS",
        "outputId": "47e5934e-7cda-4eeb-c8ed-229b83ee85d2"
      },
      "execution_count": 49,
      "outputs": [
        {
          "output_type": "stream",
          "name": "stderr",
          "text": [
            "Eval grid: 100%|██████████| 10/10 [00:01<00:00,  8.09it/s]\n",
            "Eval reg3: 100%|██████████| 10/10 [00:01<00:00,  7.95it/s]\n",
            "Eval er: 100%|██████████| 10/10 [00:03<00:00,  3.33it/s]\n",
            "Eval n=22: 100%|██████████| 8/8 [00:02<00:00,  2.77it/s]\n",
            "Eval n=80: 100%|██████████| 8/8 [00:03<00:00,  2.03it/s]"
          ]
        },
        {
          "output_type": "stream",
          "name": "stdout",
          "text": [
            "✅ Saved: generalization.npz, scaling.json, ablations.npz, ilp_small.npz, er_large.npz\n"
          ]
        },
        {
          "output_type": "stream",
          "name": "stderr",
          "text": [
            "\n"
          ]
        }
      ]
    },
    {
      "cell_type": "markdown",
      "source": [
        "Cell C — Plot & simpan gambar (poster‑ready)"
      ],
      "metadata": {
        "id": "j4Ec5wahjY0a"
      }
    },
    {
      "cell_type": "code",
      "source": [
        "# === Cell C: Plot & Save Figures ===\n",
        "import matplotlib.pyplot as plt\n",
        "def savefig(name):\n",
        "    path = FIG_DIR/name\n",
        "    plt.savefig(path, bbox_inches=\"tight\", dpi=160); plt.close()\n",
        "    print(\"Saved fig:\", path)\n",
        "\n",
        "# Generalization: Grid & 3-regular\n",
        "def box3(a,b,c,title, fname):\n",
        "    plt.figure(figsize=(6,4))\n",
        "    plt.boxplot([a,b,c], labels=[\"RL\",\"RL+refine\",\"SA\"])\n",
        "    plt.ylabel(\"Energy (lower is better)\"); plt.title(title)\n",
        "    savefig(fname)\n",
        "\n",
        "box3(gen_results[\"grid\"][\"H_rl\"], gen_results[\"grid\"][\"H_ref\"], gen_results[\"grid\"][\"H_sa\"], \"Grid graphs\", \"gen_grid.png\")\n",
        "box3(gen_results[\"reg3\"][\"H_rl\"], gen_results[\"reg3\"][\"H_ref\"], gen_results[\"reg3\"][\"H_sa\"], \"3-regular graphs\", \"gen_reg3.png\")\n",
        "\n",
        "# Scaling\n",
        "plt.figure(figsize=(6,4))\n",
        "plt.plot(xs, yrl, 'o-', label=\"RL\")\n",
        "plt.plot(xs, yrf, 'o-', label=\"RL+refine\")\n",
        "plt.plot(xs, ysa, 'o-', label=\"SA\")\n",
        "plt.xlabel(\"n (nodes)\"); plt.ylabel(\"Energy per edge (↓)\")\n",
        "plt.title(\"Scaling on ER graphs\"); plt.legend()\n",
        "savefig(\"scaling_er.png\")\n",
        "\n",
        "# Ablations\n",
        "plt.figure(figsize=(6,4))\n",
        "plt.boxplot([abl_out[\"base\"], abl_out[\"noJ\"], abl_out[\"noDeg\"]], labels=[\"Base\",\"Ignore J\",\"No degree\"])\n",
        "plt.ylabel(\"Energy (↓)\"); plt.title(\"Ablations\")\n",
        "savefig(\"ablations.png\")\n",
        "\n",
        "# Small ER: RL vs SA, & histogram gap ke ILP\n",
        "box3(res_small[\"H_rl\"], res_small[\"H_sa\"], res_small[\"H_ilp\"] if len(res_small[\"H_ilp\"]) else res_small[\"H_sa\"],\n",
        "     f\"Small ER (n≈{ilp_cfg['n']}) — RL vs SA (and ILP)\", \"small_er_box.png\")\n",
        "if len(res_small[\"gaps\"]) > 0:\n",
        "    plt.figure(figsize=(6,4))\n",
        "    plt.hist(res_small[\"gaps\"], bins=10)\n",
        "    plt.xlabel(\"Relative gap (RL - ILP) / |ILP|\"); plt.title(\"RL gaps to optimal (small graphs)\")\n",
        "    savefig(\"gaps_hist.png\")\n",
        "\n",
        "# Large ER: RL vs SA\n",
        "box3(res_large[\"H_rl\"], res_large[\"H_sa\"], res_large[\"H_sa\"], f\"Large ER (n≈{CFG['eval_large_n']}) — RL vs SA\", \"large_er_box.png\")\n",
        "print(\"✅ All figs saved in figs/\")\n"
      ],
      "metadata": {
        "colab": {
          "base_uri": "https://localhost:8080/"
        },
        "id": "5O_tsdUEjcUm",
        "outputId": "66317161-0360-4169-9f22-0d40d3d35157"
      },
      "execution_count": 50,
      "outputs": [
        {
          "output_type": "stream",
          "name": "stderr",
          "text": [
            "/tmp/ipython-input-1567207199.py:11: MatplotlibDeprecationWarning: The 'labels' parameter of boxplot() has been renamed 'tick_labels' since Matplotlib 3.9; support for the old name will be dropped in 3.11.\n",
            "  plt.boxplot([a,b,c], labels=[\"RL\",\"RL+refine\",\"SA\"])\n",
            "/tmp/ipython-input-1567207199.py:11: MatplotlibDeprecationWarning: The 'labels' parameter of boxplot() has been renamed 'tick_labels' since Matplotlib 3.9; support for the old name will be dropped in 3.11.\n",
            "  plt.boxplot([a,b,c], labels=[\"RL\",\"RL+refine\",\"SA\"])\n"
          ]
        },
        {
          "output_type": "stream",
          "name": "stdout",
          "text": [
            "Saved fig: figs/gen_grid.png\n",
            "Saved fig: figs/gen_reg3.png\n",
            "Saved fig: figs/scaling_er.png\n",
            "Saved fig: figs/ablations.png\n"
          ]
        },
        {
          "output_type": "stream",
          "name": "stderr",
          "text": [
            "/tmp/ipython-input-1567207199.py:29: MatplotlibDeprecationWarning: The 'labels' parameter of boxplot() has been renamed 'tick_labels' since Matplotlib 3.9; support for the old name will be dropped in 3.11.\n",
            "  plt.boxplot([abl_out[\"base\"], abl_out[\"noJ\"], abl_out[\"noDeg\"]], labels=[\"Base\",\"Ignore J\",\"No degree\"])\n",
            "/tmp/ipython-input-1567207199.py:11: MatplotlibDeprecationWarning: The 'labels' parameter of boxplot() has been renamed 'tick_labels' since Matplotlib 3.9; support for the old name will be dropped in 3.11.\n",
            "  plt.boxplot([a,b,c], labels=[\"RL\",\"RL+refine\",\"SA\"])\n"
          ]
        },
        {
          "output_type": "stream",
          "name": "stdout",
          "text": [
            "Saved fig: figs/small_er_box.png\n",
            "Saved fig: figs/gaps_hist.png\n",
            "Saved fig: figs/large_er_box.png\n",
            "✅ All figs saved in figs/\n"
          ]
        },
        {
          "output_type": "stream",
          "name": "stderr",
          "text": [
            "/tmp/ipython-input-1567207199.py:11: MatplotlibDeprecationWarning: The 'labels' parameter of boxplot() has been renamed 'tick_labels' since Matplotlib 3.9; support for the old name will be dropped in 3.11.\n",
            "  plt.boxplot([a,b,c], labels=[\"RL\",\"RL+refine\",\"SA\"])\n"
          ]
        }
      ]
    },
    {
      "cell_type": "markdown",
      "source": [
        "Cell D — Ringkasan angka (CSV + markdown)"
      ],
      "metadata": {
        "id": "bXDRp3majhBC"
      }
    },
    {
      "cell_type": "code",
      "source": [
        "# === Cell D: Buat ringkasan tabel CSV + Markdown ===\n",
        "import pandas as pd, numpy as np, json\n",
        "\n",
        "rows = []\n",
        "\n",
        "# Generalization stats\n",
        "for k in [\"grid\",\"reg3\",\"er\"]:\n",
        "    R = gen_results[k]\n",
        "    rows += [\n",
        "        {\"exp\":\"generalization\", \"split\":k, \"metric\":\"mean_RL\",        \"value\": float(np.mean(R[\"H_rl\"]))},\n",
        "        {\"exp\":\"generalization\", \"split\":k, \"metric\":\"mean_RL_refine\", \"value\": float(np.mean(R[\"H_ref\"]))},\n",
        "        {\"exp\":\"generalization\", \"split\":k, \"metric\":\"mean_SA\",        \"value\": float(np.mean(R[\"H_sa\"]))},\n",
        "    ]\n",
        "\n",
        "# Scaling (ambil size terakhir)\n",
        "rows += [\n",
        "    {\"exp\":\"scaling\", \"split\":\"er\", \"metric\":\"RL_last\",        \"value\": float(yrl[-1])},\n",
        "    {\"exp\":\"scaling\", \"split\":\"er\", \"metric\":\"RLref_last\",     \"value\": float(yrf[-1])},\n",
        "    {\"exp\":\"scaling\", \"split\":\"er\", \"metric\":\"SA_last\",        \"value\": float(ysa[-1])},\n",
        "]\n",
        "\n",
        "# Ablations\n",
        "rows += [\n",
        "    {\"exp\":\"ablation\", \"split\":\"er_small\", \"metric\":\"mean_base\", \"value\": float(np.mean(abl_out[\"base\"]))},\n",
        "    {\"exp\":\"ablation\", \"split\":\"er_small\", \"metric\":\"mean_noJ\",  \"value\": float(np.mean(abl_out[\"noJ\"]))},\n",
        "    {\"exp\":\"ablation\", \"split\":\"er_small\", \"metric\":\"mean_noDeg\",\"value\": float(np.mean(abl_out[\"noDeg\"]))},\n",
        "]\n",
        "\n",
        "# Small ER: ILP gaps\n",
        "rows += [\n",
        "    {\"exp\":\"small_er\", \"split\":\"er_small\", \"metric\":\"mean_H_RL\",   \"value\": float(np.mean(res_small[\"H_rl\"]))},\n",
        "    {\"exp\":\"small_er\", \"split\":\"er_small\", \"metric\":\"mean_H_SA\",   \"value\": float(np.mean(res_small[\"H_sa\"]))},\n",
        "]\n",
        "if len(res_small[\"gaps\"])>0:\n",
        "    rows.append({\"exp\":\"small_er\", \"split\":\"er_small\", \"metric\":\"mean_gap_RL_vs_ILP\", \"value\": float(np.mean(res_small[\"gaps\"]))})\n",
        "\n",
        "# Large ER\n",
        "rows += [\n",
        "    {\"exp\":\"large_er\", \"split\":\"er_large\", \"metric\":\"mean_H_RL\", \"value\": float(np.mean(res_large[\"H_rl\"]))},\n",
        "    {\"exp\":\"large_er\", \"split\":\"er_large\", \"metric\":\"mean_H_SA\", \"value\": float(np.mean(res_large[\"H_sa\"]))},\n",
        "]\n",
        "\n",
        "df = pd.DataFrame(rows)\n",
        "df.to_csv(ART_DIR/\"exp_summary.csv\", index=False)\n",
        "print(\"✅ Saved:\", ART_DIR/\"exp_summary.csv\")\n",
        "display(df)\n",
        "\n",
        "# Markdown quick report\n",
        "lines = [\"# Experiment Suite Report\\n\"]\n",
        "for _,r in df.iterrows():\n",
        "    lines.append(f\"- **{r['exp']} / {r['split']} / {r['metric']}**: {r['value']:.3f}\")\n",
        "with open(ART_DIR/\"exp_report.md\",\"w\") as f:\n",
        "    f.write(\"\\n\".join(lines))\n",
        "print(\"✅ Saved:\", ART_DIR/\"exp_report.md\")\n"
      ],
      "metadata": {
        "colab": {
          "base_uri": "https://localhost:8080/",
          "height": 712
        },
        "id": "ta9y2Wu2jjak",
        "outputId": "89dc2618-00fb-409b-8978-9aa04d3c644d"
      },
      "execution_count": 51,
      "outputs": [
        {
          "output_type": "stream",
          "name": "stdout",
          "text": [
            "✅ Saved: artifacts/exp_summary.csv\n"
          ]
        },
        {
          "output_type": "display_data",
          "data": {
            "text/plain": [
              "               exp     split              metric       value\n",
              "0   generalization      grid             mean_RL   -3.000000\n",
              "1   generalization      grid      mean_RL_refine  -64.400000\n",
              "2   generalization      grid             mean_SA  -75.600000\n",
              "3   generalization      reg3             mean_RL    3.000000\n",
              "4   generalization      reg3      mean_RL_refine  -68.200000\n",
              "5   generalization      reg3             mean_SA  -69.400000\n",
              "6   generalization        er             mean_RL   -9.800000\n",
              "7   generalization        er      mean_RL_refine -161.000000\n",
              "8   generalization        er             mean_SA -190.200000\n",
              "9          scaling        er             RL_last    0.009966\n",
              "10         scaling        er          RLref_last   -0.247124\n",
              "11         scaling        er             SA_last   -0.245814\n",
              "12        ablation  er_small           mean_base    1.000000\n",
              "13        ablation  er_small            mean_noJ    1.000000\n",
              "14        ablation  er_small          mean_noDeg    5.500000\n",
              "15        small_er  er_small           mean_H_RL    5.875000\n",
              "16        small_er  er_small           mean_H_SA  -34.375000\n",
              "17        small_er  er_small  mean_gap_RL_vs_ILP    1.171717\n",
              "18        large_er  er_large           mean_H_RL    1.750000\n",
              "19        large_er  er_large           mean_H_SA -185.000000"
            ],
            "text/html": [
              "\n",
              "  <div id=\"df-7e06cb10-0acf-4680-8882-c406be746410\" class=\"colab-df-container\">\n",
              "    <div>\n",
              "<style scoped>\n",
              "    .dataframe tbody tr th:only-of-type {\n",
              "        vertical-align: middle;\n",
              "    }\n",
              "\n",
              "    .dataframe tbody tr th {\n",
              "        vertical-align: top;\n",
              "    }\n",
              "\n",
              "    .dataframe thead th {\n",
              "        text-align: right;\n",
              "    }\n",
              "</style>\n",
              "<table border=\"1\" class=\"dataframe\">\n",
              "  <thead>\n",
              "    <tr style=\"text-align: right;\">\n",
              "      <th></th>\n",
              "      <th>exp</th>\n",
              "      <th>split</th>\n",
              "      <th>metric</th>\n",
              "      <th>value</th>\n",
              "    </tr>\n",
              "  </thead>\n",
              "  <tbody>\n",
              "    <tr>\n",
              "      <th>0</th>\n",
              "      <td>generalization</td>\n",
              "      <td>grid</td>\n",
              "      <td>mean_RL</td>\n",
              "      <td>-3.000000</td>\n",
              "    </tr>\n",
              "    <tr>\n",
              "      <th>1</th>\n",
              "      <td>generalization</td>\n",
              "      <td>grid</td>\n",
              "      <td>mean_RL_refine</td>\n",
              "      <td>-64.400000</td>\n",
              "    </tr>\n",
              "    <tr>\n",
              "      <th>2</th>\n",
              "      <td>generalization</td>\n",
              "      <td>grid</td>\n",
              "      <td>mean_SA</td>\n",
              "      <td>-75.600000</td>\n",
              "    </tr>\n",
              "    <tr>\n",
              "      <th>3</th>\n",
              "      <td>generalization</td>\n",
              "      <td>reg3</td>\n",
              "      <td>mean_RL</td>\n",
              "      <td>3.000000</td>\n",
              "    </tr>\n",
              "    <tr>\n",
              "      <th>4</th>\n",
              "      <td>generalization</td>\n",
              "      <td>reg3</td>\n",
              "      <td>mean_RL_refine</td>\n",
              "      <td>-68.200000</td>\n",
              "    </tr>\n",
              "    <tr>\n",
              "      <th>5</th>\n",
              "      <td>generalization</td>\n",
              "      <td>reg3</td>\n",
              "      <td>mean_SA</td>\n",
              "      <td>-69.400000</td>\n",
              "    </tr>\n",
              "    <tr>\n",
              "      <th>6</th>\n",
              "      <td>generalization</td>\n",
              "      <td>er</td>\n",
              "      <td>mean_RL</td>\n",
              "      <td>-9.800000</td>\n",
              "    </tr>\n",
              "    <tr>\n",
              "      <th>7</th>\n",
              "      <td>generalization</td>\n",
              "      <td>er</td>\n",
              "      <td>mean_RL_refine</td>\n",
              "      <td>-161.000000</td>\n",
              "    </tr>\n",
              "    <tr>\n",
              "      <th>8</th>\n",
              "      <td>generalization</td>\n",
              "      <td>er</td>\n",
              "      <td>mean_SA</td>\n",
              "      <td>-190.200000</td>\n",
              "    </tr>\n",
              "    <tr>\n",
              "      <th>9</th>\n",
              "      <td>scaling</td>\n",
              "      <td>er</td>\n",
              "      <td>RL_last</td>\n",
              "      <td>0.009966</td>\n",
              "    </tr>\n",
              "    <tr>\n",
              "      <th>10</th>\n",
              "      <td>scaling</td>\n",
              "      <td>er</td>\n",
              "      <td>RLref_last</td>\n",
              "      <td>-0.247124</td>\n",
              "    </tr>\n",
              "    <tr>\n",
              "      <th>11</th>\n",
              "      <td>scaling</td>\n",
              "      <td>er</td>\n",
              "      <td>SA_last</td>\n",
              "      <td>-0.245814</td>\n",
              "    </tr>\n",
              "    <tr>\n",
              "      <th>12</th>\n",
              "      <td>ablation</td>\n",
              "      <td>er_small</td>\n",
              "      <td>mean_base</td>\n",
              "      <td>1.000000</td>\n",
              "    </tr>\n",
              "    <tr>\n",
              "      <th>13</th>\n",
              "      <td>ablation</td>\n",
              "      <td>er_small</td>\n",
              "      <td>mean_noJ</td>\n",
              "      <td>1.000000</td>\n",
              "    </tr>\n",
              "    <tr>\n",
              "      <th>14</th>\n",
              "      <td>ablation</td>\n",
              "      <td>er_small</td>\n",
              "      <td>mean_noDeg</td>\n",
              "      <td>5.500000</td>\n",
              "    </tr>\n",
              "    <tr>\n",
              "      <th>15</th>\n",
              "      <td>small_er</td>\n",
              "      <td>er_small</td>\n",
              "      <td>mean_H_RL</td>\n",
              "      <td>5.875000</td>\n",
              "    </tr>\n",
              "    <tr>\n",
              "      <th>16</th>\n",
              "      <td>small_er</td>\n",
              "      <td>er_small</td>\n",
              "      <td>mean_H_SA</td>\n",
              "      <td>-34.375000</td>\n",
              "    </tr>\n",
              "    <tr>\n",
              "      <th>17</th>\n",
              "      <td>small_er</td>\n",
              "      <td>er_small</td>\n",
              "      <td>mean_gap_RL_vs_ILP</td>\n",
              "      <td>1.171717</td>\n",
              "    </tr>\n",
              "    <tr>\n",
              "      <th>18</th>\n",
              "      <td>large_er</td>\n",
              "      <td>er_large</td>\n",
              "      <td>mean_H_RL</td>\n",
              "      <td>1.750000</td>\n",
              "    </tr>\n",
              "    <tr>\n",
              "      <th>19</th>\n",
              "      <td>large_er</td>\n",
              "      <td>er_large</td>\n",
              "      <td>mean_H_SA</td>\n",
              "      <td>-185.000000</td>\n",
              "    </tr>\n",
              "  </tbody>\n",
              "</table>\n",
              "</div>\n",
              "    <div class=\"colab-df-buttons\">\n",
              "\n",
              "  <div class=\"colab-df-container\">\n",
              "    <button class=\"colab-df-convert\" onclick=\"convertToInteractive('df-7e06cb10-0acf-4680-8882-c406be746410')\"\n",
              "            title=\"Convert this dataframe to an interactive table.\"\n",
              "            style=\"display:none;\">\n",
              "\n",
              "  <svg xmlns=\"http://www.w3.org/2000/svg\" height=\"24px\" viewBox=\"0 -960 960 960\">\n",
              "    <path d=\"M120-120v-720h720v720H120Zm60-500h600v-160H180v160Zm220 220h160v-160H400v160Zm0 220h160v-160H400v160ZM180-400h160v-160H180v160Zm440 0h160v-160H620v160ZM180-180h160v-160H180v160Zm440 0h160v-160H620v160Z\"/>\n",
              "  </svg>\n",
              "    </button>\n",
              "\n",
              "  <style>\n",
              "    .colab-df-container {\n",
              "      display:flex;\n",
              "      gap: 12px;\n",
              "    }\n",
              "\n",
              "    .colab-df-convert {\n",
              "      background-color: #E8F0FE;\n",
              "      border: none;\n",
              "      border-radius: 50%;\n",
              "      cursor: pointer;\n",
              "      display: none;\n",
              "      fill: #1967D2;\n",
              "      height: 32px;\n",
              "      padding: 0 0 0 0;\n",
              "      width: 32px;\n",
              "    }\n",
              "\n",
              "    .colab-df-convert:hover {\n",
              "      background-color: #E2EBFA;\n",
              "      box-shadow: 0px 1px 2px rgba(60, 64, 67, 0.3), 0px 1px 3px 1px rgba(60, 64, 67, 0.15);\n",
              "      fill: #174EA6;\n",
              "    }\n",
              "\n",
              "    .colab-df-buttons div {\n",
              "      margin-bottom: 4px;\n",
              "    }\n",
              "\n",
              "    [theme=dark] .colab-df-convert {\n",
              "      background-color: #3B4455;\n",
              "      fill: #D2E3FC;\n",
              "    }\n",
              "\n",
              "    [theme=dark] .colab-df-convert:hover {\n",
              "      background-color: #434B5C;\n",
              "      box-shadow: 0px 1px 3px 1px rgba(0, 0, 0, 0.15);\n",
              "      filter: drop-shadow(0px 1px 2px rgba(0, 0, 0, 0.3));\n",
              "      fill: #FFFFFF;\n",
              "    }\n",
              "  </style>\n",
              "\n",
              "    <script>\n",
              "      const buttonEl =\n",
              "        document.querySelector('#df-7e06cb10-0acf-4680-8882-c406be746410 button.colab-df-convert');\n",
              "      buttonEl.style.display =\n",
              "        google.colab.kernel.accessAllowed ? 'block' : 'none';\n",
              "\n",
              "      async function convertToInteractive(key) {\n",
              "        const element = document.querySelector('#df-7e06cb10-0acf-4680-8882-c406be746410');\n",
              "        const dataTable =\n",
              "          await google.colab.kernel.invokeFunction('convertToInteractive',\n",
              "                                                    [key], {});\n",
              "        if (!dataTable) return;\n",
              "\n",
              "        const docLinkHtml = 'Like what you see? Visit the ' +\n",
              "          '<a target=\"_blank\" href=https://colab.research.google.com/notebooks/data_table.ipynb>data table notebook</a>'\n",
              "          + ' to learn more about interactive tables.';\n",
              "        element.innerHTML = '';\n",
              "        dataTable['output_type'] = 'display_data';\n",
              "        await google.colab.output.renderOutput(dataTable, element);\n",
              "        const docLink = document.createElement('div');\n",
              "        docLink.innerHTML = docLinkHtml;\n",
              "        element.appendChild(docLink);\n",
              "      }\n",
              "    </script>\n",
              "  </div>\n",
              "\n",
              "\n",
              "    <div id=\"df-3758210c-2db4-4462-9c25-972e68d40a48\">\n",
              "      <button class=\"colab-df-quickchart\" onclick=\"quickchart('df-3758210c-2db4-4462-9c25-972e68d40a48')\"\n",
              "                title=\"Suggest charts\"\n",
              "                style=\"display:none;\">\n",
              "\n",
              "<svg xmlns=\"http://www.w3.org/2000/svg\" height=\"24px\"viewBox=\"0 0 24 24\"\n",
              "     width=\"24px\">\n",
              "    <g>\n",
              "        <path d=\"M19 3H5c-1.1 0-2 .9-2 2v14c0 1.1.9 2 2 2h14c1.1 0 2-.9 2-2V5c0-1.1-.9-2-2-2zM9 17H7v-7h2v7zm4 0h-2V7h2v10zm4 0h-2v-4h2v4z\"/>\n",
              "    </g>\n",
              "</svg>\n",
              "      </button>\n",
              "\n",
              "<style>\n",
              "  .colab-df-quickchart {\n",
              "      --bg-color: #E8F0FE;\n",
              "      --fill-color: #1967D2;\n",
              "      --hover-bg-color: #E2EBFA;\n",
              "      --hover-fill-color: #174EA6;\n",
              "      --disabled-fill-color: #AAA;\n",
              "      --disabled-bg-color: #DDD;\n",
              "  }\n",
              "\n",
              "  [theme=dark] .colab-df-quickchart {\n",
              "      --bg-color: #3B4455;\n",
              "      --fill-color: #D2E3FC;\n",
              "      --hover-bg-color: #434B5C;\n",
              "      --hover-fill-color: #FFFFFF;\n",
              "      --disabled-bg-color: #3B4455;\n",
              "      --disabled-fill-color: #666;\n",
              "  }\n",
              "\n",
              "  .colab-df-quickchart {\n",
              "    background-color: var(--bg-color);\n",
              "    border: none;\n",
              "    border-radius: 50%;\n",
              "    cursor: pointer;\n",
              "    display: none;\n",
              "    fill: var(--fill-color);\n",
              "    height: 32px;\n",
              "    padding: 0;\n",
              "    width: 32px;\n",
              "  }\n",
              "\n",
              "  .colab-df-quickchart:hover {\n",
              "    background-color: var(--hover-bg-color);\n",
              "    box-shadow: 0 1px 2px rgba(60, 64, 67, 0.3), 0 1px 3px 1px rgba(60, 64, 67, 0.15);\n",
              "    fill: var(--button-hover-fill-color);\n",
              "  }\n",
              "\n",
              "  .colab-df-quickchart-complete:disabled,\n",
              "  .colab-df-quickchart-complete:disabled:hover {\n",
              "    background-color: var(--disabled-bg-color);\n",
              "    fill: var(--disabled-fill-color);\n",
              "    box-shadow: none;\n",
              "  }\n",
              "\n",
              "  .colab-df-spinner {\n",
              "    border: 2px solid var(--fill-color);\n",
              "    border-color: transparent;\n",
              "    border-bottom-color: var(--fill-color);\n",
              "    animation:\n",
              "      spin 1s steps(1) infinite;\n",
              "  }\n",
              "\n",
              "  @keyframes spin {\n",
              "    0% {\n",
              "      border-color: transparent;\n",
              "      border-bottom-color: var(--fill-color);\n",
              "      border-left-color: var(--fill-color);\n",
              "    }\n",
              "    20% {\n",
              "      border-color: transparent;\n",
              "      border-left-color: var(--fill-color);\n",
              "      border-top-color: var(--fill-color);\n",
              "    }\n",
              "    30% {\n",
              "      border-color: transparent;\n",
              "      border-left-color: var(--fill-color);\n",
              "      border-top-color: var(--fill-color);\n",
              "      border-right-color: var(--fill-color);\n",
              "    }\n",
              "    40% {\n",
              "      border-color: transparent;\n",
              "      border-right-color: var(--fill-color);\n",
              "      border-top-color: var(--fill-color);\n",
              "    }\n",
              "    60% {\n",
              "      border-color: transparent;\n",
              "      border-right-color: var(--fill-color);\n",
              "    }\n",
              "    80% {\n",
              "      border-color: transparent;\n",
              "      border-right-color: var(--fill-color);\n",
              "      border-bottom-color: var(--fill-color);\n",
              "    }\n",
              "    90% {\n",
              "      border-color: transparent;\n",
              "      border-bottom-color: var(--fill-color);\n",
              "    }\n",
              "  }\n",
              "</style>\n",
              "\n",
              "      <script>\n",
              "        async function quickchart(key) {\n",
              "          const quickchartButtonEl =\n",
              "            document.querySelector('#' + key + ' button');\n",
              "          quickchartButtonEl.disabled = true;  // To prevent multiple clicks.\n",
              "          quickchartButtonEl.classList.add('colab-df-spinner');\n",
              "          try {\n",
              "            const charts = await google.colab.kernel.invokeFunction(\n",
              "                'suggestCharts', [key], {});\n",
              "          } catch (error) {\n",
              "            console.error('Error during call to suggestCharts:', error);\n",
              "          }\n",
              "          quickchartButtonEl.classList.remove('colab-df-spinner');\n",
              "          quickchartButtonEl.classList.add('colab-df-quickchart-complete');\n",
              "        }\n",
              "        (() => {\n",
              "          let quickchartButtonEl =\n",
              "            document.querySelector('#df-3758210c-2db4-4462-9c25-972e68d40a48 button');\n",
              "          quickchartButtonEl.style.display =\n",
              "            google.colab.kernel.accessAllowed ? 'block' : 'none';\n",
              "        })();\n",
              "      </script>\n",
              "    </div>\n",
              "\n",
              "  <div id=\"id_d06d7647-89da-4adc-b9ef-2bb95d449016\">\n",
              "    <style>\n",
              "      .colab-df-generate {\n",
              "        background-color: #E8F0FE;\n",
              "        border: none;\n",
              "        border-radius: 50%;\n",
              "        cursor: pointer;\n",
              "        display: none;\n",
              "        fill: #1967D2;\n",
              "        height: 32px;\n",
              "        padding: 0 0 0 0;\n",
              "        width: 32px;\n",
              "      }\n",
              "\n",
              "      .colab-df-generate:hover {\n",
              "        background-color: #E2EBFA;\n",
              "        box-shadow: 0px 1px 2px rgba(60, 64, 67, 0.3), 0px 1px 3px 1px rgba(60, 64, 67, 0.15);\n",
              "        fill: #174EA6;\n",
              "      }\n",
              "\n",
              "      [theme=dark] .colab-df-generate {\n",
              "        background-color: #3B4455;\n",
              "        fill: #D2E3FC;\n",
              "      }\n",
              "\n",
              "      [theme=dark] .colab-df-generate:hover {\n",
              "        background-color: #434B5C;\n",
              "        box-shadow: 0px 1px 3px 1px rgba(0, 0, 0, 0.15);\n",
              "        filter: drop-shadow(0px 1px 2px rgba(0, 0, 0, 0.3));\n",
              "        fill: #FFFFFF;\n",
              "      }\n",
              "    </style>\n",
              "    <button class=\"colab-df-generate\" onclick=\"generateWithVariable('df')\"\n",
              "            title=\"Generate code using this dataframe.\"\n",
              "            style=\"display:none;\">\n",
              "\n",
              "  <svg xmlns=\"http://www.w3.org/2000/svg\" height=\"24px\"viewBox=\"0 0 24 24\"\n",
              "       width=\"24px\">\n",
              "    <path d=\"M7,19H8.4L18.45,9,17,7.55,7,17.6ZM5,21V16.75L18.45,3.32a2,2,0,0,1,2.83,0l1.4,1.43a1.91,1.91,0,0,1,.58,1.4,1.91,1.91,0,0,1-.58,1.4L9.25,21ZM18.45,9,17,7.55Zm-12,3A5.31,5.31,0,0,0,4.9,8.1,5.31,5.31,0,0,0,1,6.5,5.31,5.31,0,0,0,4.9,4.9,5.31,5.31,0,0,0,6.5,1,5.31,5.31,0,0,0,8.1,4.9,5.31,5.31,0,0,0,12,6.5,5.46,5.46,0,0,0,6.5,12Z\"/>\n",
              "  </svg>\n",
              "    </button>\n",
              "    <script>\n",
              "      (() => {\n",
              "      const buttonEl =\n",
              "        document.querySelector('#id_d06d7647-89da-4adc-b9ef-2bb95d449016 button.colab-df-generate');\n",
              "      buttonEl.style.display =\n",
              "        google.colab.kernel.accessAllowed ? 'block' : 'none';\n",
              "\n",
              "      buttonEl.onclick = () => {\n",
              "        google.colab.notebook.generateWithVariable('df');\n",
              "      }\n",
              "      })();\n",
              "    </script>\n",
              "  </div>\n",
              "\n",
              "    </div>\n",
              "  </div>\n"
            ],
            "application/vnd.google.colaboratory.intrinsic+json": {
              "type": "dataframe",
              "variable_name": "df",
              "summary": "{\n  \"name\": \"df\",\n  \"rows\": 20,\n  \"fields\": [\n    {\n      \"column\": \"exp\",\n      \"properties\": {\n        \"dtype\": \"category\",\n        \"num_unique_values\": 5,\n        \"samples\": [\n          \"scaling\",\n          \"large_er\",\n          \"ablation\"\n        ],\n        \"semantic_type\": \"\",\n        \"description\": \"\"\n      }\n    },\n    {\n      \"column\": \"split\",\n      \"properties\": {\n        \"dtype\": \"category\",\n        \"num_unique_values\": 5,\n        \"samples\": [\n          \"reg3\",\n          \"er_large\",\n          \"er\"\n        ],\n        \"semantic_type\": \"\",\n        \"description\": \"\"\n      }\n    },\n    {\n      \"column\": \"metric\",\n      \"properties\": {\n        \"dtype\": \"string\",\n        \"num_unique_values\": 12,\n        \"samples\": [\n          \"mean_H_SA\",\n          \"mean_H_RL\",\n          \"mean_RL\"\n        ],\n        \"semantic_type\": \"\",\n        \"description\": \"\"\n      }\n    },\n    {\n      \"column\": \"value\",\n      \"properties\": {\n        \"dtype\": \"number\",\n        \"std\": 65.51720718259457,\n        \"min\": -190.2,\n        \"max\": 5.875,\n        \"num_unique_values\": 19,\n        \"samples\": [\n          -3.0,\n          -69.4,\n          -0.24581388103113197\n        ],\n        \"semantic_type\": \"\",\n        \"description\": \"\"\n      }\n    }\n  ]\n}"
            }
          },
          "metadata": {}
        },
        {
          "output_type": "stream",
          "name": "stdout",
          "text": [
            "✅ Saved: artifacts/exp_report.md\n"
          ]
        }
      ]
    },
    {
      "cell_type": "markdown",
      "source": [
        "Cell E — QAOA p=1 (jika qiskit tersedia)"
      ],
      "metadata": {
        "id": "LuCHcJ8Zjm_L"
      }
    },
    {
      "cell_type": "code",
      "source": [
        "# === Cell E (opsional): QAOA p=1 benchmark kecil ===\n",
        "if 'HAS_QISKIT' in globals() and HAS_QISKIT:\n",
        "    G_q = make_er_graph(n=12, p=0.35, seed=123)\n",
        "    edges_q = undirected_edges_with_J(G_q)\n",
        "    H_qaoa, _ = maxcut_qaoa_energy(edges_q, n=G_q.number_of_nodes(), p=1, maxiter=80)\n",
        "    d_q = to_pyg_data(G_q)\n",
        "    H_rl, _ = eval_policy_on_graph(EVAL_MODEL, d_q)\n",
        "    _, H_sa = simulated_annealing(edges_q, n=d_q.num_nodes, steps=3000, seed=777)\n",
        "    print(f\"QAOA p=1: {H_qaoa:.1f} | RL: {H_rl:.1f} | SA: {H_sa:.1f}\")\n",
        "else:\n",
        "    print(\"QAOA skipped (qiskit not available).\")\n"
      ],
      "metadata": {
        "colab": {
          "base_uri": "https://localhost:8080/"
        },
        "id": "RV-3uOY8jqUf",
        "outputId": "5a8cda2d-a37b-4299-a5e3-b77bf9197768"
      },
      "execution_count": 52,
      "outputs": [
        {
          "output_type": "stream",
          "name": "stdout",
          "text": [
            "QAOA skipped (qiskit not available).\n"
          ]
        }
      ]
    }
  ]
}